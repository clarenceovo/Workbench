{
 "cells": [
  {
   "cell_type": "code",
   "id": "initial_id",
   "metadata": {
    "collapsed": true,
    "ExecuteTime": {
     "end_time": "2025-05-25T05:08:34.241367Z",
     "start_time": "2025-05-25T05:08:33.930497Z"
    }
   },
   "source": [
    "from Workbench.transport.QuestClient import QuestDBClient\n",
    "\n",
    "client = QuestDBClient(host=\"34.97.186.69\",\n",
    "                       port=9009)\n",
    "\n",
    "sample_symbol = {\"symbol\":\"BTCUSDT\",\n",
    "                 \"exchange\":\"COINBASE\",\n",
    "                 \"currency\":\"USDT\"}\n",
    "sample_columns = {\"bid\":\"100600\",\"ask\":\"100700\",\n",
    "                  \"bid_size\":\"100\",\"ask_size\":\"100\"}\n",
    "client.write(\"orderbook\",sample_symbol,sample_columns)"
   ],
   "outputs": [],
   "execution_count": 2
  }
 ],
 "metadata": {
  "kernelspec": {
   "display_name": "Python 3",
   "language": "python",
   "name": "python3"
  },
  "language_info": {
   "codemirror_mode": {
    "name": "ipython",
    "version": 2
   },
   "file_extension": ".py",
   "mimetype": "text/x-python",
   "name": "python",
   "nbconvert_exporter": "python",
   "pygments_lexer": "ipython2",
   "version": "2.7.6"
  }
 },
 "nbformat": 4,
 "nbformat_minor": 5
}
