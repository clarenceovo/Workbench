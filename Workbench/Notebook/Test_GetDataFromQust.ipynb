{
 "cells": [
  {
   "cell_type": "code",
   "id": "initial_id",
   "metadata": {
    "collapsed": true,
    "ExecuteTime": {
     "end_time": "2025-05-25T13:37:32.089240Z",
     "start_time": "2025-05-25T13:37:05.851165Z"
    }
   },
   "source": [
    "from Workbench.transport.QuestClient import QuestDBClient\n",
    "\n",
    "client = QuestDBClient(host=\"34.97.186.69\",\n",
    "                       port=8812,\n",
    "                       read_only=True)\n",
    "\n",
    "query =\"\"\"select * from top_of_book\n",
    "where exchange = 'Binance';\n",
    "\"\"\"\n",
    "result = client.execute_query(query)\n",
    "\n",
    "print(result)"
   ],
   "outputs": [
    {
     "name": "stdout",
     "output_type": "stream",
     "text": [
      "                             symbol exchange   bid_price    bid_qty  \\\n",
      "timestamp                                                             \n",
      "2025-05-25 08:09:05.489    SOLVUSDT  Binance    0.042260  21717.000   \n",
      "2025-05-25 08:09:06.403    SOLVUSDT  Binance    0.042260  21268.000   \n",
      "2025-05-25 08:09:08.335    SOLVUSDT  Binance    0.042260  23633.000   \n",
      "2025-05-25 08:09:09.285    SOLVUSDT  Binance    0.042260  25999.000   \n",
      "2025-05-25 08:09:09.583    SOLVUSDT  Binance    0.042270   9439.000   \n",
      "...                             ...      ...         ...        ...   \n",
      "2025-05-25 13:37:05.525  PENDLEUSDT  Binance    4.369200      2.000   \n",
      "2025-05-25 13:37:05.532   DEGENUSDT  Binance    0.005200   1160.000   \n",
      "2025-05-25 13:37:05.583     XMRUSDT  Binance  408.570000      0.962   \n",
      "2025-05-25 13:37:05.596    ALCHUSDT  Binance    0.136310    274.000   \n",
      "2025-05-25 13:37:05.627     EPTUSDT  Binance    0.009429    584.000   \n",
      "\n",
      "                          ask_price    ask_qty  \n",
      "timestamp                                       \n",
      "2025-05-25 08:09:05.489    0.042270    136.000  \n",
      "2025-05-25 08:09:06.403    0.042270    136.000  \n",
      "2025-05-25 08:09:08.335    0.042270    136.000  \n",
      "2025-05-25 08:09:09.285    0.042280  10629.000  \n",
      "2025-05-25 08:09:09.583    0.042280   7083.000  \n",
      "...                             ...        ...  \n",
      "2025-05-25 13:37:05.525    4.369400     56.000  \n",
      "2025-05-25 13:37:05.532    0.005201  99917.000  \n",
      "2025-05-25 13:37:05.583  408.590000      0.424  \n",
      "2025-05-25 13:37:05.596    0.136340    422.000  \n",
      "2025-05-25 13:37:05.627    0.009432  19887.000  \n",
      "\n",
      "[978202 rows x 6 columns]\n"
     ]
    }
   ],
   "execution_count": 2
  },
  {
   "metadata": {
    "ExecuteTime": {
     "end_time": "2025-05-25T13:36:17.739671Z",
     "start_time": "2025-05-25T13:36:17.738303Z"
    }
   },
   "cell_type": "code",
   "source": "",
   "id": "7b23d6999ae21f32",
   "outputs": [],
   "execution_count": null
  }
 ],
 "metadata": {
  "kernelspec": {
   "display_name": "Python 3",
   "language": "python",
   "name": "python3"
  },
  "language_info": {
   "codemirror_mode": {
    "name": "ipython",
    "version": 2
   },
   "file_extension": ".py",
   "mimetype": "text/x-python",
   "name": "python",
   "nbconvert_exporter": "python",
   "pygments_lexer": "ipython2",
   "version": "2.7.6"
  }
 },
 "nbformat": 4,
 "nbformat_minor": 5
}
