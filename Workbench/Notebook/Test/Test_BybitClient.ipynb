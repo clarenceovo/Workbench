{
 "cells": [
  {
   "cell_type": "code",
   "id": "initial_id",
   "metadata": {
    "collapsed": true,
    "ExecuteTime": {
     "end_time": "2025-07-08T00:08:41.961780Z",
     "start_time": "2025-07-08T00:08:40.276211Z"
    }
   },
   "source": [
    "from Workbench.CryptoTrader.BybitCryptoTrader import BybitCryptoTrader\n",
    "\n",
    "client = BybitCryptoTrader(\n",
    "    start_ws=False\n",
    ")"
   ],
   "outputs": [
    {
     "ename": "TypeError",
     "evalue": "Can't instantiate abstract class BybitCryptoTrader without an implementation for abstract method 'get_account_status'",
     "output_type": "error",
     "traceback": [
      "\u001B[31m---------------------------------------------------------------------------\u001B[39m",
      "\u001B[31mTypeError\u001B[39m                                 Traceback (most recent call last)",
      "\u001B[36mCell\u001B[39m\u001B[36m \u001B[39m\u001B[32mIn[1]\u001B[39m\u001B[32m, line 3\u001B[39m\n\u001B[32m      1\u001B[39m \u001B[38;5;28;01mfrom\u001B[39;00m\u001B[38;5;250m \u001B[39m\u001B[34;01mWorkbench\u001B[39;00m\u001B[34;01m.\u001B[39;00m\u001B[34;01mCryptoTrader\u001B[39;00m\u001B[34;01m.\u001B[39;00m\u001B[34;01mBybitCryptoTrader\u001B[39;00m\u001B[38;5;250m \u001B[39m\u001B[38;5;28;01mimport\u001B[39;00m BybitCryptoTrader\n\u001B[32m----> \u001B[39m\u001B[32m3\u001B[39m client = \u001B[43mBybitCryptoTrader\u001B[49m\u001B[43m(\u001B[49m\n\u001B[32m      4\u001B[39m \u001B[43m    \u001B[49m\u001B[43mstart_ws\u001B[49m\u001B[43m=\u001B[49m\u001B[38;5;28;43;01mFalse\u001B[39;49;00m\n\u001B[32m      5\u001B[39m \u001B[43m)\u001B[49m\n",
      "\u001B[31mTypeError\u001B[39m: Can't instantiate abstract class BybitCryptoTrader without an implementation for abstract method 'get_account_status'"
     ]
    }
   ],
   "execution_count": 1
  }
 ],
 "metadata": {
  "kernelspec": {
   "display_name": "Python 3",
   "language": "python",
   "name": "python3"
  },
  "language_info": {
   "codemirror_mode": {
    "name": "ipython",
    "version": 2
   },
   "file_extension": ".py",
   "mimetype": "text/x-python",
   "name": "python",
   "nbconvert_exporter": "python",
   "pygments_lexer": "ipython2",
   "version": "2.7.6"
  }
 },
 "nbformat": 4,
 "nbformat_minor": 5
}
