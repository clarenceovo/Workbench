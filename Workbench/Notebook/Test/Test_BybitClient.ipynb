{
 "cells": [
  {
   "cell_type": "code",
   "id": "initial_id",
   "metadata": {
    "collapsed": true,
    "ExecuteTime": {
     "end_time": "2025-07-12T13:45:10.224870Z",
     "start_time": "2025-07-12T13:45:09.373014Z"
    }
   },
   "source": [
    "from Workbench.CryptoTrader.BybitCryptoTrader import BybitCryptoTrader\n",
    "client = BybitCryptoTrader(\n",
    "    start_ws=False\n",
    ")\n"
   ],
   "outputs": [],
   "execution_count": 1
  },
  {
   "metadata": {
    "ExecuteTime": {
     "end_time": "2025-07-12T13:45:10.492627Z",
     "start_time": "2025-07-12T13:45:10.231004Z"
    }
   },
   "cell_type": "code",
   "source": "trader = client.get_account_tiering()",
   "id": "7f4d84ed9d6edd64",
   "outputs": [],
   "execution_count": 2
  }
 ],
 "metadata": {
  "kernelspec": {
   "display_name": "Python 3",
   "language": "python",
   "name": "python3"
  },
  "language_info": {
   "codemirror_mode": {
    "name": "ipython",
    "version": 2
   },
   "file_extension": ".py",
   "mimetype": "text/x-python",
   "name": "python",
   "nbconvert_exporter": "python",
   "pygments_lexer": "ipython2",
   "version": "2.7.6"
  }
 },
 "nbformat": 4,
 "nbformat_minor": 5
}
