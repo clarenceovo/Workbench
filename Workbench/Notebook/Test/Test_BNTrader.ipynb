{
 "cells": [
  {
   "cell_type": "code",
   "id": "initial_id",
   "metadata": {
    "collapsed": true,
    "ExecuteTime": {
     "end_time": "2025-06-12T15:57:14.437721Z",
     "start_time": "2025-06-12T15:57:13.733899Z"
    }
   },
   "source": [
    "from Workbench.CryptoTrader.BinanceCryptoTrader import BinanceCryptoTrader\n",
    "\n",
    "trader = BinanceCryptoTrader(start_ws=False)\n",
    "bal = trader.get_account_balance()\n",
    "for asset in bal:\n",
    "    if float(asset['balance']) > 0:\n",
    "        print(f'{asset[\"asset\"]}: {asset[\"balance\"]}')\n",
    "        print(asset)"
   ],
   "outputs": [
    {
     "name": "stdout",
     "output_type": "stream",
     "text": [
      "USDT: 116.38991797\n",
      "{'accountAlias': 'fWFzsRoCoCTiTiAu', 'asset': 'USDT', 'balance': '116.38991797', 'crossWalletBalance': '116.38991797', 'crossUnPnl': '0.17599938', 'availableBalance': '101.43182564', 'maxWithdrawAmount': '101.43182564', 'marginAvailable': True, 'updateTime': 1749743828245}\n"
     ]
    }
   ],
   "execution_count": 23
  },
  {
   "metadata": {
    "ExecuteTime": {
     "end_time": "2025-06-12T15:57:14.673178Z",
     "start_time": "2025-06-12T15:57:14.525579Z"
    }
   },
   "cell_type": "code",
   "source": [
    "pos = trader.get_all_positions()\n",
    "for p in pos:\n",
    "    if float(p['positionAmt']) != 0:\n",
    "        print(f'{p[\"symbol\"]}: {p[\"positionAmt\"]}')\n",
    "        print(p)"
   ],
   "id": "724ff70d63cfd4d",
   "outputs": [
    {
     "name": "stdout",
     "output_type": "stream",
     "text": [
      "RESOLVUSDT: 336\n",
      "{'symbol': 'RESOLVUSDT', 'positionAmt': '336', 'entryPrice': '0.2971791964286', 'breakEvenPrice': '0.2973277860268', 'markPrice': '0.29782686', 'unRealizedProfit': '0.21761712', 'liquidationPrice': '0', 'leverage': '20', 'maxNotionalValue': '50000', 'marginType': 'cross', 'isolatedMargin': '0.00000000', 'isAutoAddMargin': 'false', 'positionSide': 'BOTH', 'notional': '100.06982496', 'isolatedWallet': '0', 'updateTime': 1749743465635, 'isolated': False, 'adlQuantile': 3}\n",
      "XMRUSDT: -0.310\n",
      "{'symbol': 'XMRUSDT', 'positionAmt': '-0.310', 'entryPrice': '322.1219677419', 'breakEvenPrice': '321.9609067581', 'markPrice': '322.20848333', 'unRealizedProfit': '-0.02681983', 'liquidationPrice': '684.84162881', 'leverage': '20', 'maxNotionalValue': '50000', 'marginType': 'cross', 'isolatedMargin': '0.00000000', 'isAutoAddMargin': 'false', 'positionSide': 'BOTH', 'notional': '-99.88462983', 'isolatedWallet': '0', 'updateTime': 1749743480924, 'isolated': False, 'adlQuantile': 1}\n",
      "SOLVUSDT: -11\n",
      "{'symbol': 'SOLVUSDT', 'positionAmt': '-11', 'entryPrice': '0.04394', 'breakEvenPrice': '-0.0104522654518', 'markPrice': '0.04586564', 'unRealizedProfit': '-0.02118204', 'liquidationPrice': '10.26552701', 'leverage': '20', 'maxNotionalValue': '50000', 'marginType': 'cross', 'isolatedMargin': '0.00000000', 'isAutoAddMargin': 'false', 'positionSide': 'BOTH', 'notional': '-0.50452204', 'isolatedWallet': '0', 'updateTime': 1749571970589, 'isolated': False, 'adlQuantile': 1}\n",
      "SOPHUSDT: 2043\n",
      "{'symbol': 'SOPHUSDT', 'positionAmt': '2043', 'entryPrice': '0.04883', 'breakEvenPrice': '0.048854415', 'markPrice': '0.04884034', 'unRealizedProfit': '0.02112462', 'liquidationPrice': '0', 'leverage': '20', 'maxNotionalValue': '50000', 'marginType': 'cross', 'isolatedMargin': '0.00000000', 'isAutoAddMargin': 'false', 'positionSide': 'BOTH', 'notional': '99.78081462', 'isolatedWallet': '0', 'updateTime': 1749743828245, 'isolated': False, 'adlQuantile': 4}\n",
      "GRASSUSDT: 0.9\n",
      "{'symbol': 'GRASSUSDT', 'positionAmt': '0.9', 'entryPrice': '1.726127081667', 'breakEvenPrice': '0.49344346684', 'markPrice': '1.70974875', 'unRealizedProfit': '-0.01474049', 'liquidationPrice': '0', 'leverage': '20', 'maxNotionalValue': '25000', 'marginType': 'cross', 'isolatedMargin': '0.00000000', 'isAutoAddMargin': 'false', 'positionSide': 'BOTH', 'notional': '1.53877387', 'isolatedWallet': '0', 'updateTime': 1749738623824, 'isolated': False, 'adlQuantile': 1}\n"
     ]
    }
   ],
   "execution_count": 24
  }
 ],
 "metadata": {
  "kernelspec": {
   "display_name": "Python 3",
   "language": "python",
   "name": "python3"
  },
  "language_info": {
   "codemirror_mode": {
    "name": "ipython",
    "version": 2
   },
   "file_extension": ".py",
   "mimetype": "text/x-python",
   "name": "python",
   "nbconvert_exporter": "python",
   "pygments_lexer": "ipython2",
   "version": "2.7.6"
  }
 },
 "nbformat": 4,
 "nbformat_minor": 5
}
