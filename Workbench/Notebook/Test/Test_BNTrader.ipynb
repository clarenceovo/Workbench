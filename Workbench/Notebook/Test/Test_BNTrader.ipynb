{
 "cells": [
  {
   "cell_type": "code",
   "id": "initial_id",
   "metadata": {
    "collapsed": true,
    "ExecuteTime": {
     "end_time": "2025-06-12T16:25:58.712554Z",
     "start_time": "2025-06-12T16:25:57.878068Z"
    }
   },
   "source": [
    "from Workbench.CryptoTrader.BinanceCryptoTrader import BinanceCryptoTrader\n",
    "\n",
    "trader = BinanceCryptoTrader(start_ws=False)\n",
    "bal = trader.get_account_balance()\n",
    "for asset in bal:\n",
    "    if float(asset['balance']) > 0:\n",
    "        print(f'{asset[\"asset\"]}: {asset[\"balance\"]}')\n",
    "        print(asset)"
   ],
   "outputs": [
    {
     "name": "stdout",
     "output_type": "stream",
     "text": [
      "USDT: 114.78361693\n",
      "{'accountAlias': 'fWFzsRoCoCTiTiAu', 'asset': 'USDT', 'balance': '114.78361693', 'crossWalletBalance': '114.78361693', 'crossUnPnl': '0.41907626', 'availableBalance': '110.57572767', 'maxWithdrawAmount': '110.57572767', 'marginAvailable': True, 'updateTime': 1749745511872}\n"
     ]
    }
   ],
   "execution_count": 53
  },
  {
   "metadata": {
    "ExecuteTime": {
     "end_time": "2025-06-12T16:25:58.928613Z",
     "start_time": "2025-06-12T16:25:58.782884Z"
    }
   },
   "cell_type": "code",
   "source": [
    "pos = trader.get_all_positions()\n",
    "for p in pos:\n",
    "    if float(p['positionAmt']) != 0:\n",
    "        print(f'{p[\"symbol\"]}: {p[\"positionAmt\"]}')\n",
    "        print(p)"
   ],
   "id": "724ff70d63cfd4d",
   "outputs": [
    {
     "name": "stdout",
     "output_type": "stream",
     "text": [
      "SOLVUSDT: -11\n",
      "{'symbol': 'SOLVUSDT', 'positionAmt': '-11', 'entryPrice': '0.04394', 'breakEvenPrice': '-0.0104522654518', 'markPrice': '0.04623000', 'unRealizedProfit': '-0.02519000', 'liquidationPrice': '10.33151343', 'leverage': '20', 'maxNotionalValue': '50000', 'marginType': 'cross', 'isolatedMargin': '0.00000000', 'isAutoAddMargin': 'false', 'positionSide': 'BOTH', 'notional': '-0.50853000', 'isolatedWallet': '0', 'updateTime': 1749571970589, 'isolated': False, 'adlQuantile': 1}\n",
      "AAVEUSDT: 0.3\n",
      "{'symbol': 'AAVEUSDT', 'positionAmt': '0.3', 'entryPrice': '300.11', 'breakEvenPrice': '300.260055', 'markPrice': '301.56846191', 'unRealizedProfit': '0.43753857', 'liquidationPrice': '0', 'leverage': '20', 'maxNotionalValue': '600000', 'marginType': 'cross', 'isolatedMargin': '0.00000000', 'isAutoAddMargin': 'false', 'positionSide': 'BOTH', 'notional': '90.47053857', 'isolatedWallet': '0', 'updateTime': 1749745005140, 'isolated': False, 'adlQuantile': 2}\n",
      "GRASSUSDT: 0.9\n",
      "{'symbol': 'GRASSUSDT', 'positionAmt': '0.9', 'entryPrice': '1.726127081667', 'breakEvenPrice': '0.49344346684', 'markPrice': '1.73360230', 'unRealizedProfit': '0.00672769', 'liquidationPrice': '0', 'leverage': '20', 'maxNotionalValue': '25000', 'marginType': 'cross', 'isolatedMargin': '0.00000000', 'isAutoAddMargin': 'false', 'positionSide': 'BOTH', 'notional': '1.56024207', 'isolatedWallet': '0', 'updateTime': 1749738623824, 'isolated': False, 'adlQuantile': 3}\n"
     ]
    }
   ],
   "execution_count": 54
  }
 ],
 "metadata": {
  "kernelspec": {
   "display_name": "Python 3",
   "language": "python",
   "name": "python3"
  },
  "language_info": {
   "codemirror_mode": {
    "name": "ipython",
    "version": 2
   },
   "file_extension": ".py",
   "mimetype": "text/x-python",
   "name": "python",
   "nbconvert_exporter": "python",
   "pygments_lexer": "ipython2",
   "version": "2.7.6"
  }
 },
 "nbformat": 4,
 "nbformat_minor": 5
}
