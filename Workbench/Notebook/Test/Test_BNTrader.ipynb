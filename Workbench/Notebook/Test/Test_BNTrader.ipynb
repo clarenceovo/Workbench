{
 "cells": [
  {
   "cell_type": "code",
   "id": "initial_id",
   "metadata": {
    "collapsed": true,
    "ExecuteTime": {
     "end_time": "2025-06-12T17:00:04.534977Z",
     "start_time": "2025-06-12T17:00:03.967133Z"
    }
   },
   "source": [
    "from Workbench.CryptoTrader.BinanceCryptoTrader import BinanceCryptoTrader\n",
    "\n",
    "trader = BinanceCryptoTrader(start_ws=False)\n",
    "bal = trader.get_account_balance()\n",
    "for asset in bal:\n",
    "    if float(asset['balance']) > 0:\n",
    "        print(f'{asset[\"asset\"]}: {asset[\"balance\"]}')\n",
    "        print(asset)"
   ],
   "outputs": [
    {
     "name": "stdout",
     "output_type": "stream",
     "text": [
      "USDT: 112.93443131\n",
      "{'accountAlias': 'fWFzsRoCoCTiTiAu', 'asset': 'USDT', 'balance': '112.93443131', 'crossWalletBalance': '112.93443131', 'crossUnPnl': '0.84712260', 'availableBalance': '109.07149821', 'maxWithdrawAmount': '109.07149821', 'marginAvailable': True, 'updateTime': 1749747601321}\n"
     ]
    }
   ],
   "execution_count": 77
  },
  {
   "metadata": {
    "ExecuteTime": {
     "end_time": "2025-06-12T17:00:04.687521Z",
     "start_time": "2025-06-12T17:00:04.605207Z"
    }
   },
   "cell_type": "code",
   "source": [
    "pos = trader.get_all_positions()\n",
    "for p in pos:\n",
    "    if float(p['positionAmt']) != 0:\n",
    "        print(f'{p[\"symbol\"]}: {p[\"positionAmt\"]}')\n",
    "        print(p)"
   ],
   "id": "724ff70d63cfd4d",
   "outputs": [
    {
     "name": "stdout",
     "output_type": "stream",
     "text": [
      "SOLVUSDT: -11\n",
      "{'symbol': 'SOLVUSDT', 'positionAmt': '-11', 'entryPrice': '0.04394', 'breakEvenPrice': '-0.0104522654518', 'markPrice': '0.04619123', 'unRealizedProfit': '-0.02476353', 'liquidationPrice': '10.20317365', 'leverage': '20', 'maxNotionalValue': '50000', 'marginType': 'cross', 'isolatedMargin': '0.00000000', 'isAutoAddMargin': 'false', 'positionSide': 'BOTH', 'notional': '-0.50810353', 'isolatedWallet': '0', 'updateTime': 1749571970589, 'isolated': False, 'adlQuantile': 1}\n",
      "AAVEUSDT: 0.3\n",
      "{'symbol': 'AAVEUSDT', 'positionAmt': '0.3', 'entryPrice': '300.11', 'breakEvenPrice': '300.260055', 'markPrice': '302.98519810', 'unRealizedProfit': '0.86255943', 'liquidationPrice': '0', 'leverage': '20', 'maxNotionalValue': '600000', 'marginType': 'cross', 'isolatedMargin': '0.00000000', 'isAutoAddMargin': 'false', 'positionSide': 'BOTH', 'notional': '90.89555943', 'isolatedWallet': '0', 'updateTime': 1749745005140, 'isolated': False, 'adlQuantile': 2}\n",
      "GRASSUSDT: 0.9\n",
      "{'symbol': 'GRASSUSDT', 'positionAmt': '0.9', 'entryPrice': '1.726127081667', 'breakEvenPrice': '0.49344346684', 'markPrice': '1.73649009', 'unRealizedProfit': '0.00932670', 'liquidationPrice': '0', 'leverage': '20', 'maxNotionalValue': '25000', 'marginType': 'cross', 'isolatedMargin': '0.00000000', 'isAutoAddMargin': 'false', 'positionSide': 'BOTH', 'notional': '1.56284108', 'isolatedWallet': '0', 'updateTime': 1749738623824, 'isolated': False, 'adlQuantile': 3}\n"
     ]
    }
   ],
   "execution_count": 78
  }
 ],
 "metadata": {
  "kernelspec": {
   "display_name": "Python 3",
   "language": "python",
   "name": "python3"
  },
  "language_info": {
   "codemirror_mode": {
    "name": "ipython",
    "version": 2
   },
   "file_extension": ".py",
   "mimetype": "text/x-python",
   "name": "python",
   "nbconvert_exporter": "python",
   "pygments_lexer": "ipython2",
   "version": "2.7.6"
  }
 },
 "nbformat": 4,
 "nbformat_minor": 5
}
