{
 "cells": [
  {
   "cell_type": "code",
   "id": "initial_id",
   "metadata": {
    "collapsed": true,
    "ExecuteTime": {
     "end_time": "2025-06-10T15:35:08.234501Z",
     "start_time": "2025-06-10T15:35:06.899802Z"
    }
   },
   "source": [
    "from Workbench.CryptoTrader.BinanceCryptoTrader import BinanceCryptoTrader\n",
    "\n",
    "trader = BinanceCryptoTrader(start_ws=False)\n",
    "bal = trader.get_account_balance()\n",
    "for asset in bal:\n",
    "    if float(asset['balance']) > 0:\n",
    "        print(f'{asset[\"asset\"]}: {asset[\"balance\"]}')\n",
    "        print(asset)"
   ],
   "outputs": [
    {
     "name": "stderr",
     "output_type": "stream",
     "text": [
      "2025-06-10 23:35:07,842 - BinanceFuturesTrader - ERROR - Request failed: {\"code\":-2015,\"msg\":\"Invalid API-key, IP, or permissions for action, request ip: 192.166.246.85\"}\n"
     ]
    },
    {
     "ename": "TypeError",
     "evalue": "string indices must be integers, not 'str'",
     "output_type": "error",
     "traceback": [
      "\u001B[31m---------------------------------------------------------------------------\u001B[39m",
      "\u001B[31mTypeError\u001B[39m                                 Traceback (most recent call last)",
      "\u001B[36mCell\u001B[39m\u001B[36m \u001B[39m\u001B[32mIn[15]\u001B[39m\u001B[32m, line 6\u001B[39m\n\u001B[32m      4\u001B[39m bal = trader.get_account_balance()\n\u001B[32m      5\u001B[39m \u001B[38;5;28;01mfor\u001B[39;00m asset \u001B[38;5;129;01min\u001B[39;00m bal:\n\u001B[32m----> \u001B[39m\u001B[32m6\u001B[39m     \u001B[38;5;28;01mif\u001B[39;00m \u001B[38;5;28mfloat\u001B[39m(\u001B[43masset\u001B[49m\u001B[43m[\u001B[49m\u001B[33;43m'\u001B[39;49m\u001B[33;43mbalance\u001B[39;49m\u001B[33;43m'\u001B[39;49m\u001B[43m]\u001B[49m) > \u001B[32m0\u001B[39m:\n\u001B[32m      7\u001B[39m         \u001B[38;5;28mprint\u001B[39m(\u001B[33mf\u001B[39m\u001B[33m'\u001B[39m\u001B[38;5;132;01m{\u001B[39;00masset[\u001B[33m\"\u001B[39m\u001B[33masset\u001B[39m\u001B[33m\"\u001B[39m]\u001B[38;5;132;01m}\u001B[39;00m\u001B[33m: \u001B[39m\u001B[38;5;132;01m{\u001B[39;00masset[\u001B[33m\"\u001B[39m\u001B[33mbalance\u001B[39m\u001B[33m\"\u001B[39m]\u001B[38;5;132;01m}\u001B[39;00m\u001B[33m'\u001B[39m)\n\u001B[32m      8\u001B[39m         \u001B[38;5;28mprint\u001B[39m(asset)\n",
      "\u001B[31mTypeError\u001B[39m: string indices must be integers, not 'str'"
     ]
    }
   ],
   "execution_count": 15
  }
 ],
 "metadata": {
  "kernelspec": {
   "display_name": "Python 3",
   "language": "python",
   "name": "python3"
  },
  "language_info": {
   "codemirror_mode": {
    "name": "ipython",
    "version": 2
   },
   "file_extension": ".py",
   "mimetype": "text/x-python",
   "name": "python",
   "nbconvert_exporter": "python",
   "pygments_lexer": "ipython2",
   "version": "2.7.6"
  }
 },
 "nbformat": 4,
 "nbformat_minor": 5
}
