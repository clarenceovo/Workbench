{
 "cells": [
  {
   "cell_type": "code",
   "id": "initial_id",
   "metadata": {
    "collapsed": true,
    "ExecuteTime": {
     "end_time": "2025-06-13T01:12:08.486339Z",
     "start_time": "2025-06-13T01:12:07.722183Z"
    }
   },
   "source": [
    "from Workbench.CryptoTrader.BinanceCryptoTrader import BinanceCryptoTrader\n",
    "\n",
    "trader = BinanceCryptoTrader(start_ws=False)\n",
    "bal = trader.get_account_balance()\n",
    "for asset in bal:\n",
    "    if float(asset['balance']) > 0:\n",
    "        print(f'{asset[\"asset\"]}: {asset[\"balance\"]}')\n",
    "        print(asset)"
   ],
   "outputs": [
    {
     "name": "stdout",
     "output_type": "stream",
     "text": [
      "USDT: 105.17700043\n",
      "{'accountAlias': 'fWFzsRoCoCTiTiAu', 'asset': 'USDT', 'balance': '105.17700043', 'crossWalletBalance': '105.17700043', 'crossUnPnl': '-2.15788053', 'availableBalance': '72.39048166', 'maxWithdrawAmount': '72.39048166', 'marginAvailable': True, 'updateTime': 1749777088109}\n"
     ]
    }
   ],
   "execution_count": 137
  },
  {
   "metadata": {
    "ExecuteTime": {
     "end_time": "2025-06-13T01:12:08.719058Z",
     "start_time": "2025-06-13T01:12:08.565808Z"
    }
   },
   "cell_type": "code",
   "source": [
    "pos = trader.get_all_positions()\n",
    "for p in pos:\n",
    "    if float(p['positionAmt']) != 0:\n",
    "        print(f'{p[\"symbol\"]}: {p[\"positionAmt\"]}')\n",
    "        print(p)"
   ],
   "id": "724ff70d63cfd4d",
   "outputs": [
    {
     "name": "stdout",
     "output_type": "stream",
     "text": [
      "TRUMPUSDT: 10.28\n",
      "{'symbol': 'TRUMPUSDT', 'positionAmt': '10.28', 'entryPrice': '9.743089494163', 'breakEvenPrice': '9.747961038911', 'markPrice': '9.74760943', 'unRealizedProfit': '0.04646498', 'liquidationPrice': '0.10686446', 'leverage': '20', 'maxNotionalValue': '200000', 'marginType': 'cross', 'isolatedMargin': '0.00000000', 'isAutoAddMargin': 'false', 'positionSide': 'BOTH', 'notional': '100.20542494', 'isolatedWallet': '0', 'updateTime': 1749777088109, 'isolated': False, 'adlQuantile': 3}\n",
      "ETHUSDT: 0.040\n",
      "{'symbol': 'ETHUSDT', 'positionAmt': '0.040', 'entryPrice': '2485.03', 'breakEvenPrice': '2486.272515', 'markPrice': '2469.83997151', 'unRealizedProfit': '-0.60760113', 'liquidationPrice': '7.09424548', 'leverage': '20', 'maxNotionalValue': '65000000', 'marginType': 'cross', 'isolatedMargin': '0.00000000', 'isAutoAddMargin': 'false', 'positionSide': 'BOTH', 'notional': '98.79359886', 'isolatedWallet': '0', 'updateTime': 1749777038053, 'isolated': False, 'adlQuantile': 2}\n",
      "RESOLVUSDT: -394\n",
      "{'symbol': 'RESOLVUSDT', 'positionAmt': '-394', 'entryPrice': '0.253312893401', 'breakEvenPrice': '0.2531862369543', 'markPrice': '0.25212000', 'unRealizedProfit': '0.46999866', 'liquidationPrice': '0.49867925', 'leverage': '20', 'maxNotionalValue': '50000', 'marginType': 'cross', 'isolatedMargin': '0.00000000', 'isAutoAddMargin': 'false', 'positionSide': 'BOTH', 'notional': '-99.33528000', 'isolatedWallet': '0', 'updateTime': 1749777005436, 'isolated': False, 'adlQuantile': 1}\n",
      "XMRUSDT: 0.327\n",
      "{'symbol': 'XMRUSDT', 'positionAmt': '0.327', 'entryPrice': '306.0124770642', 'breakEvenPrice': '306.1654833028', 'markPrice': '304.46386877', 'unRealizedProfit': '-0.50639491', 'liquidationPrice': '1.38479133', 'leverage': '20', 'maxNotionalValue': '50000', 'marginType': 'cross', 'isolatedMargin': '0.00000000', 'isAutoAddMargin': 'false', 'positionSide': 'BOTH', 'notional': '99.55968508', 'isolatedWallet': '0', 'updateTime': 1749776965537, 'isolated': False, 'adlQuantile': 3}\n",
      "SOLVUSDT: -11\n",
      "{'symbol': 'SOLVUSDT', 'positionAmt': '-11', 'entryPrice': '0.04394', 'breakEvenPrice': '-0.0104522654518', 'markPrice': '0.04551612', 'unRealizedProfit': '-0.01733732', 'liquidationPrice': '8.87682033', 'leverage': '20', 'maxNotionalValue': '50000', 'marginType': 'cross', 'isolatedMargin': '0.00000000', 'isAutoAddMargin': 'false', 'positionSide': 'BOTH', 'notional': '-0.50067732', 'isolatedWallet': '0', 'updateTime': 1749571970589, 'isolated': False, 'adlQuantile': 1}\n",
      "SOPHUSDT: 2267\n",
      "{'symbol': 'SOPHUSDT', 'positionAmt': '2267', 'entryPrice': '0.044111', 'breakEvenPrice': '0.0441330555', 'markPrice': '0.04385465', 'unRealizedProfit': '-0.58114545', 'liquidationPrice': '0.00013747', 'leverage': '20', 'maxNotionalValue': '50000', 'marginType': 'cross', 'isolatedMargin': '0.00000000', 'isAutoAddMargin': 'false', 'positionSide': 'BOTH', 'notional': '99.41849155', 'isolatedWallet': '0', 'updateTime': 1749777076758, 'isolated': False, 'adlQuantile': 3}\n",
      "XRPUSDT: 47.5\n",
      "{'symbol': 'XRPUSDT', 'positionAmt': '47.5', 'entryPrice': '2.1099', 'breakEvenPrice': '2.11095495', 'markPrice': '2.09309110', 'unRealizedProfit': '-0.79842275', 'liquidationPrice': '0.01711565', 'leverage': '20', 'maxNotionalValue': '2000000', 'marginType': 'cross', 'isolatedMargin': '0.00000000', 'isAutoAddMargin': 'false', 'positionSide': 'BOTH', 'notional': '99.42182725', 'isolatedWallet': '0', 'updateTime': 1749776979404, 'isolated': False, 'adlQuantile': 2}\n",
      "GRASSUSDT: 0.9\n",
      "{'symbol': 'GRASSUSDT', 'positionAmt': '0.9', 'entryPrice': '1.726127081667', 'breakEvenPrice': '0.49344346684', 'markPrice': '1.54452417', 'unRealizedProfit': '-0.16344261', 'liquidationPrice': '0', 'leverage': '20', 'maxNotionalValue': '25000', 'marginType': 'cross', 'isolatedMargin': '0.00000000', 'isAutoAddMargin': 'false', 'positionSide': 'BOTH', 'notional': '1.39007175', 'isolatedWallet': '0', 'updateTime': 1749738623824, 'isolated': False, 'adlQuantile': 1}\n"
     ]
    }
   ],
   "execution_count": 138
  }
 ],
 "metadata": {
  "kernelspec": {
   "display_name": "Python 3",
   "language": "python",
   "name": "python3"
  },
  "language_info": {
   "codemirror_mode": {
    "name": "ipython",
    "version": 2
   },
   "file_extension": ".py",
   "mimetype": "text/x-python",
   "name": "python",
   "nbconvert_exporter": "python",
   "pygments_lexer": "ipython2",
   "version": "2.7.6"
  }
 },
 "nbformat": 4,
 "nbformat_minor": 5
}
