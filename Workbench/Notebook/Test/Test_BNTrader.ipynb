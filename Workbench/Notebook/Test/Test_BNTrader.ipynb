{
 "cells": [
  {
   "cell_type": "code",
   "id": "initial_id",
   "metadata": {
    "collapsed": true,
    "ExecuteTime": {
     "end_time": "2025-07-02T00:23:58.628336Z",
     "start_time": "2025-07-02T00:23:57.183672Z"
    }
   },
   "source": [
    "from Workbench.CryptoTrader.BinanceCryptoTrader import BinanceCryptoTrader\n",
    "\n",
    "trader = BinanceCryptoTrader(start_ws=False)\n",
    "bal = trader.get_account_balance()\n",
    "for asset in bal:\n",
    "    if float(asset['balance']) > 0:\n",
    "        print(f'{asset[\"asset\"]}: {asset[\"balance\"]}')\n",
    "        print(asset)"
   ],
   "outputs": [
    {
     "name": "stderr",
     "output_type": "stream",
     "text": [
      "2025-07-02 08:23:57,805 - BinanceFuturesTrader - ERROR - Request failed: {\"code\":-2015,\"msg\":\"Invalid API-key, IP, or permissions for action, request ip: 206.161.66.190\"}\n"
     ]
    },
    {
     "ename": "TypeError",
     "evalue": "string indices must be integers, not 'str'",
     "output_type": "error",
     "traceback": [
      "\u001B[31m---------------------------------------------------------------------------\u001B[39m",
      "\u001B[31mTypeError\u001B[39m                                 Traceback (most recent call last)",
      "\u001B[36mCell\u001B[39m\u001B[36m \u001B[39m\u001B[32mIn[19]\u001B[39m\u001B[32m, line 6\u001B[39m\n\u001B[32m      4\u001B[39m bal = trader.get_account_balance()\n\u001B[32m      5\u001B[39m \u001B[38;5;28;01mfor\u001B[39;00m asset \u001B[38;5;129;01min\u001B[39;00m bal:\n\u001B[32m----> \u001B[39m\u001B[32m6\u001B[39m     \u001B[38;5;28;01mif\u001B[39;00m \u001B[38;5;28mfloat\u001B[39m(\u001B[43masset\u001B[49m\u001B[43m[\u001B[49m\u001B[33;43m'\u001B[39;49m\u001B[33;43mbalance\u001B[39;49m\u001B[33;43m'\u001B[39;49m\u001B[43m]\u001B[49m) > \u001B[32m0\u001B[39m:\n\u001B[32m      7\u001B[39m         \u001B[38;5;28mprint\u001B[39m(\u001B[33mf\u001B[39m\u001B[33m'\u001B[39m\u001B[38;5;132;01m{\u001B[39;00masset[\u001B[33m\"\u001B[39m\u001B[33masset\u001B[39m\u001B[33m\"\u001B[39m]\u001B[38;5;132;01m}\u001B[39;00m\u001B[33m: \u001B[39m\u001B[38;5;132;01m{\u001B[39;00masset[\u001B[33m\"\u001B[39m\u001B[33mbalance\u001B[39m\u001B[33m\"\u001B[39m]\u001B[38;5;132;01m}\u001B[39;00m\u001B[33m'\u001B[39m)\n\u001B[32m      8\u001B[39m         \u001B[38;5;28mprint\u001B[39m(asset)\n",
      "\u001B[31mTypeError\u001B[39m: string indices must be integers, not 'str'"
     ]
    }
   ],
   "execution_count": 19
  },
  {
   "metadata": {
    "ExecuteTime": {
     "end_time": "2025-07-02T00:23:59.376019Z",
     "start_time": "2025-06-28T17:07:49.637163Z"
    }
   },
   "cell_type": "code",
   "source": "print(trader.get_account_token_balance())",
   "id": "3787c8ca54d7e561",
   "outputs": [
    {
     "name": "stdout",
     "output_type": "stream",
     "text": [
      "[{'USDT': '157.31139146'}]\n"
     ]
    }
   ],
   "execution_count": 17
  },
  {
   "metadata": {
    "ExecuteTime": {
     "end_time": "2025-07-02T00:23:59.453935Z",
     "start_time": "2025-06-28T17:07:49.727272Z"
    }
   },
   "cell_type": "code",
   "source": [
    "pos = trader.get_all_positions()\n",
    "for p in pos:\n",
    "    if float(p['positionAmt']) != 0:\n",
    "        print(f'{p[\"symbol\"]}: {p[\"positionAmt\"]}')\n",
    "        print(p)"
   ],
   "id": "724ff70d63cfd4d",
   "outputs": [
    {
     "name": "stdout",
     "output_type": "stream",
     "text": [
      "TRUMPUSDT: 0.14\n",
      "{'symbol': 'TRUMPUSDT', 'positionAmt': '0.14', 'entryPrice': '9.743089494163', 'breakEvenPrice': '-0.7606975713923', 'markPrice': '9.03282064', 'unRealizedProfit': '-0.09943763', 'liquidationPrice': '0', 'leverage': '20', 'maxNotionalValue': '200000', 'marginType': 'cross', 'isolatedMargin': '0.00000000', 'isAutoAddMargin': 'false', 'positionSide': 'BOTH', 'notional': '1.26459488', 'isolatedWallet': '0', 'updateTime': 1749784652409, 'isolated': False, 'adlQuantile': 1}\n",
      "XMRUSDT: 0.328\n",
      "{'symbol': 'XMRUSDT', 'positionAmt': '0.328', 'entryPrice': '304.82', 'breakEvenPrice': '304.97241', 'markPrice': '305.87000000', 'unRealizedProfit': '0.34440000', 'liquidationPrice': '0', 'leverage': '20', 'maxNotionalValue': '50000', 'marginType': 'cross', 'isolatedMargin': '0.00000000', 'isAutoAddMargin': 'false', 'positionSide': 'BOTH', 'notional': '100.32536000', 'isolatedWallet': '0', 'updateTime': 1751129374463, 'isolated': False, 'adlQuantile': 3}\n",
      "SOLVUSDT: -11\n",
      "{'symbol': 'SOLVUSDT', 'positionAmt': '-11', 'entryPrice': '0.04394', 'breakEvenPrice': '-0.0104522654518', 'markPrice': '0.04586105', 'unRealizedProfit': '-0.02113155', 'liquidationPrice': '13.97147671', 'leverage': '20', 'maxNotionalValue': '50000', 'marginType': 'cross', 'isolatedMargin': '0.00000000', 'isAutoAddMargin': 'false', 'positionSide': 'BOTH', 'notional': '-0.50447155', 'isolatedWallet': '0', 'updateTime': 1749571970589, 'isolated': False, 'adlQuantile': 1}\n",
      "SOPHUSDT: -3053\n",
      "{'symbol': 'SOPHUSDT', 'positionAmt': '-3053', 'entryPrice': '0.0327464222077', 'breakEvenPrice': '0.0327300489966', 'markPrice': '0.03283725', 'unRealizedProfit': '-0.27730399', 'liquidationPrice': '0.08301143', 'leverage': '20', 'maxNotionalValue': '50000', 'marginType': 'cross', 'isolatedMargin': '0.00000000', 'isAutoAddMargin': 'false', 'positionSide': 'BOTH', 'notional': '-100.25212425', 'isolatedWallet': '0', 'updateTime': 1751129270842, 'isolated': False, 'adlQuantile': 1}\n",
      "GRASSUSDT: 0.9\n",
      "{'symbol': 'GRASSUSDT', 'positionAmt': '0.9', 'entryPrice': '1.726127081667', 'breakEvenPrice': '0.49344346684', 'markPrice': '1.16486356', 'unRealizedProfit': '-0.50513716', 'liquidationPrice': '0', 'leverage': '20', 'maxNotionalValue': '25000', 'marginType': 'cross', 'isolatedMargin': '0.00000000', 'isAutoAddMargin': 'false', 'positionSide': 'BOTH', 'notional': '1.04837720', 'isolatedWallet': '0', 'updateTime': 1749738623824, 'isolated': False, 'adlQuantile': 1}\n"
     ]
    }
   ],
   "execution_count": 18
  }
 ],
 "metadata": {
  "kernelspec": {
   "display_name": "Python 3",
   "language": "python",
   "name": "python3"
  },
  "language_info": {
   "codemirror_mode": {
    "name": "ipython",
    "version": 2
   },
   "file_extension": ".py",
   "mimetype": "text/x-python",
   "name": "python",
   "nbconvert_exporter": "python",
   "pygments_lexer": "ipython2",
   "version": "2.7.6"
  }
 },
 "nbformat": 4,
 "nbformat_minor": 5
}
