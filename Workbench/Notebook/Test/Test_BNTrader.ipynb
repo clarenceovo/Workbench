{
 "cells": [
  {
   "cell_type": "code",
   "id": "initial_id",
   "metadata": {
    "collapsed": true,
    "ExecuteTime": {
     "end_time": "2025-06-12T16:18:10.924033Z",
     "start_time": "2025-06-12T16:18:09.990802Z"
    }
   },
   "source": [
    "from Workbench.CryptoTrader.BinanceCryptoTrader import BinanceCryptoTrader\n",
    "\n",
    "trader = BinanceCryptoTrader(start_ws=False)\n",
    "bal = trader.get_account_balance()\n",
    "for asset in bal:\n",
    "    if float(asset['balance']) > 0:\n",
    "        print(f'{asset[\"asset\"]}: {asset[\"balance\"]}')\n",
    "        print(asset)"
   ],
   "outputs": [
    {
     "name": "stdout",
     "output_type": "stream",
     "text": [
      "USDT: 115.71863187\n",
      "{'accountAlias': 'fWFzsRoCoCTiTiAu', 'asset': 'USDT', 'balance': '115.71863187', 'crossWalletBalance': '115.71863187', 'crossUnPnl': '0.57395424', 'availableBalance': '96.59395738', 'maxWithdrawAmount': '96.59395738', 'marginAvailable': True, 'updateTime': 1749745005140}\n"
     ]
    }
   ],
   "execution_count": 45
  },
  {
   "metadata": {
    "ExecuteTime": {
     "end_time": "2025-06-12T16:18:11.118774Z",
     "start_time": "2025-06-12T16:18:10.997582Z"
    }
   },
   "cell_type": "code",
   "source": [
    "pos = trader.get_all_positions()\n",
    "for p in pos:\n",
    "    if float(p['positionAmt']) != 0:\n",
    "        print(f'{p[\"symbol\"]}: {p[\"positionAmt\"]}')\n",
    "        print(p)"
   ],
   "id": "724ff70d63cfd4d",
   "outputs": [
    {
     "name": "stdout",
     "output_type": "stream",
     "text": [
      "RESOLVUSDT: 336\n",
      "{'symbol': 'RESOLVUSDT', 'positionAmt': '336', 'entryPrice': '0.29697', 'breakEvenPrice': '0.297118485', 'markPrice': '0.29973000', 'unRealizedProfit': '0.92736000', 'liquidationPrice': '0', 'leverage': '20', 'maxNotionalValue': '50000', 'marginType': 'cross', 'isolatedMargin': '0.00000000', 'isAutoAddMargin': 'false', 'positionSide': 'BOTH', 'notional': '100.70928000', 'isolatedWallet': '0', 'updateTime': 1749744288709, 'isolated': False, 'adlQuantile': 3}\n",
      "XMRUSDT: -0.310\n",
      "{'symbol': 'XMRUSDT', 'positionAmt': '-0.310', 'entryPrice': '322.48', 'breakEvenPrice': '322.31876', 'markPrice': '324.37100000', 'unRealizedProfit': '-0.58621000', 'liquidationPrice': '683.19025781', 'leverage': '20', 'maxNotionalValue': '50000', 'marginType': 'cross', 'isolatedMargin': '0.00000000', 'isAutoAddMargin': 'false', 'positionSide': 'BOTH', 'notional': '-100.55501000', 'isolatedWallet': '0', 'updateTime': 1749744274572, 'isolated': False, 'adlQuantile': 1}\n",
      "SOLVUSDT: -11\n",
      "{'symbol': 'SOLVUSDT', 'positionAmt': '-11', 'entryPrice': '0.04394', 'breakEvenPrice': '-0.0104522654518', 'markPrice': '0.04609989', 'unRealizedProfit': '-0.02375879', 'liquidationPrice': '10.15827897', 'leverage': '20', 'maxNotionalValue': '50000', 'marginType': 'cross', 'isolatedMargin': '0.00000000', 'isAutoAddMargin': 'false', 'positionSide': 'BOTH', 'notional': '-0.50709879', 'isolatedWallet': '0', 'updateTime': 1749571970589, 'isolated': False, 'adlQuantile': 1}\n",
      "SOPHUSDT: 2028\n",
      "{'symbol': 'SOPHUSDT', 'positionAmt': '2028', 'entryPrice': '0.0494246143984', 'breakEvenPrice': '0.0494493267056', 'markPrice': '0.04949500', 'unRealizedProfit': '0.14275092', 'liquidationPrice': '0', 'leverage': '20', 'maxNotionalValue': '50000', 'marginType': 'cross', 'isolatedMargin': '0.00000000', 'isAutoAddMargin': 'false', 'positionSide': 'BOTH', 'notional': '100.37586000', 'isolatedWallet': '0', 'updateTime': 1749744904398, 'isolated': False, 'adlQuantile': 3}\n",
      "AAVEUSDT: 0.3\n",
      "{'symbol': 'AAVEUSDT', 'positionAmt': '0.3', 'entryPrice': '300.11', 'breakEvenPrice': '300.260055', 'markPrice': '300.46725499', 'unRealizedProfit': '0.10717649', 'liquidationPrice': '0', 'leverage': '20', 'maxNotionalValue': '600000', 'marginType': 'cross', 'isolatedMargin': '0.00000000', 'isAutoAddMargin': 'false', 'positionSide': 'BOTH', 'notional': '90.14017649', 'isolatedWallet': '0', 'updateTime': 1749745005140, 'isolated': False, 'adlQuantile': 1}\n",
      "GRASSUSDT: 0.9\n",
      "{'symbol': 'GRASSUSDT', 'positionAmt': '0.9', 'entryPrice': '1.726127081667', 'breakEvenPrice': '0.49344346684', 'markPrice': '1.73350000', 'unRealizedProfit': '0.00663562', 'liquidationPrice': '0', 'leverage': '20', 'maxNotionalValue': '25000', 'marginType': 'cross', 'isolatedMargin': '0.00000000', 'isAutoAddMargin': 'false', 'positionSide': 'BOTH', 'notional': '1.56015000', 'isolatedWallet': '0', 'updateTime': 1749738623824, 'isolated': False, 'adlQuantile': 3}\n"
     ]
    }
   ],
   "execution_count": 46
  }
 ],
 "metadata": {
  "kernelspec": {
   "display_name": "Python 3",
   "language": "python",
   "name": "python3"
  },
  "language_info": {
   "codemirror_mode": {
    "name": "ipython",
    "version": 2
   },
   "file_extension": ".py",
   "mimetype": "text/x-python",
   "name": "python",
   "nbconvert_exporter": "python",
   "pygments_lexer": "ipython2",
   "version": "2.7.6"
  }
 },
 "nbformat": 4,
 "nbformat_minor": 5
}
