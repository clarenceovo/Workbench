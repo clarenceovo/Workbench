{
 "cells": [
  {
   "cell_type": "code",
   "id": "initial_id",
   "metadata": {
    "collapsed": true,
    "ExecuteTime": {
     "end_time": "2025-06-08T16:21:40.334367Z",
     "start_time": "2025-06-08T16:21:39.463013Z"
    }
   },
   "source": [
    "from Workbench.CryptoTrader.BinanceCryptoTrader import BinanceCryptoTrader\n",
    "\n",
    "trader = BinanceCryptoTrader(start_ws=False)\n",
    "bal = trader.get_account_balance()\n",
    "for asset in bal:\n",
    "    if float(asset['balance']) > 0:\n",
    "        print(f'{asset[\"asset\"]}: {asset[\"balance\"]}')\n",
    "        print(asset)"
   ],
   "outputs": [
    {
     "name": "stdout",
     "output_type": "stream",
     "text": [
      "USDT: 105.76363881\n",
      "{'accountAlias': 'fWFzsRoCoCTiTiAu', 'asset': 'USDT', 'balance': '105.76363881', 'crossWalletBalance': '105.76363881', 'crossUnPnl': '0.00000000', 'availableBalance': '105.76363881', 'maxWithdrawAmount': '105.76363881', 'marginAvailable': True, 'updateTime': 1749399627864}\n"
     ]
    }
   ],
   "execution_count": 7
  }
 ],
 "metadata": {
  "kernelspec": {
   "display_name": "Python 3",
   "language": "python",
   "name": "python3"
  },
  "language_info": {
   "codemirror_mode": {
    "name": "ipython",
    "version": 2
   },
   "file_extension": ".py",
   "mimetype": "text/x-python",
   "name": "python",
   "nbconvert_exporter": "python",
   "pygments_lexer": "ipython2",
   "version": "2.7.6"
  }
 },
 "nbformat": 4,
 "nbformat_minor": 5
}
