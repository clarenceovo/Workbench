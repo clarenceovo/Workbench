{
 "cells": [
  {
   "cell_type": "code",
   "id": "initial_id",
   "metadata": {
    "collapsed": true,
    "ExecuteTime": {
     "end_time": "2025-07-12T12:30:55.369988Z",
     "start_time": "2025-07-12T12:30:55.266575Z"
    }
   },
   "source": [
    "from Workbench.CryptoTrader.HTXCryptoTrader import HTXCryptoTrader\n",
    "\n",
    "trader = HTXCryptoTrader(start_ws=False)"
   ],
   "outputs": [],
   "execution_count": 79
  },
  {
   "metadata": {
    "ExecuteTime": {
     "end_time": "2025-07-12T12:30:55.515945Z",
     "start_time": "2025-07-12T12:30:55.377839Z"
    }
   },
   "cell_type": "code",
   "source": "account = trader.get_future_account_info()",
   "id": "e775d8271f33564e",
   "outputs": [],
   "execution_count": 80
  },
  {
   "metadata": {
    "ExecuteTime": {
     "end_time": "2025-07-12T12:30:55.679337Z",
     "start_time": "2025-07-12T12:30:55.535713Z"
    }
   },
   "cell_type": "code",
   "source": "trader.get_future_account_info()['contract_detail']",
   "id": "59f17e4b7e4a77d1",
   "outputs": [
    {
     "data": {
      "text/plain": [
       "0    [{'symbol': 'SATS', 'contract_code': 'SATS-USD...\n",
       "Name: contract_detail, dtype: object"
      ]
     },
     "execution_count": 81,
     "metadata": {},
     "output_type": "execute_result"
    }
   ],
   "execution_count": 81
  },
  {
   "metadata": {
    "ExecuteTime": {
     "end_time": "2025-07-12T12:30:55.887900Z",
     "start_time": "2025-07-12T12:30:55.729089Z"
    }
   },
   "cell_type": "code",
   "source": "position = list(trader.get_future_account_info()['contract_detail'].values[0])",
   "id": "1fe739b4a2a2bae3",
   "outputs": [],
   "execution_count": 82
  },
  {
   "metadata": {
    "ExecuteTime": {
     "end_time": "2025-07-12T12:30:55.934993Z",
     "start_time": "2025-07-12T12:30:55.928962Z"
    }
   },
   "cell_type": "code",
   "source": [
    "for pos in position:\n",
    "    if pos['margin_position']:\n",
    "        print(pos)"
   ],
   "id": "de6a7262b75f59d1",
   "outputs": [
    {
     "name": "stdout",
     "output_type": "stream",
     "text": [
      "{'symbol': 'AIN', 'contract_code': 'AIN-USDT', 'margin_position': 6.893, 'margin_frozen': 0.0, 'margin_available': 179.74657830315743, 'profit_unreal': -0.3477, 'liquidation_price': None, 'lever_rate': 10, 'adjust_factor': 0.2, 'contract_type': 'swap', 'pair': 'AIN-USDT', 'business_type': 'swap', 'trade_partition': 'USDT', 'cross_max_available': 0}\n",
      "{'symbol': 'SOPH', 'contract_code': 'SOPH-USDT', 'margin_position': 10.9851, 'margin_frozen': 0.0, 'margin_available': 179.74657830315743, 'profit_unreal': 11.712, 'liquidation_price': None, 'lever_rate': 10, 'adjust_factor': 0.2, 'contract_type': 'swap', 'pair': 'SOPH-USDT', 'business_type': 'swap', 'trade_partition': 'USDT', 'cross_max_available': 0}\n"
     ]
    }
   ],
   "execution_count": 83
  },
  {
   "metadata": {
    "ExecuteTime": {
     "end_time": "2025-07-12T12:30:56.101066Z",
     "start_time": "2025-07-12T12:30:55.955648Z"
    }
   },
   "cell_type": "code",
   "source": [
    "ret = trader.get_active_position_symbol()\n",
    "print(ret)\n"
   ],
   "id": "f35bddf001d186b6",
   "outputs": [
    {
     "name": "stdout",
     "output_type": "stream",
     "text": [
      "['AINUSDT', 'SOPHUSDT']\n"
     ]
    }
   ],
   "execution_count": 84
  }
 ],
 "metadata": {
  "kernelspec": {
   "display_name": "Python 3",
   "language": "python",
   "name": "python3"
  },
  "language_info": {
   "codemirror_mode": {
    "name": "ipython",
    "version": 2
   },
   "file_extension": ".py",
   "mimetype": "text/x-python",
   "name": "python",
   "nbconvert_exporter": "python",
   "pygments_lexer": "ipython2",
   "version": "2.7.6"
  }
 },
 "nbformat": 4,
 "nbformat_minor": 5
}
