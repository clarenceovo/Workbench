{
 "cells": [
  {
   "cell_type": "code",
   "id": "initial_id",
   "metadata": {
    "collapsed": true,
    "ExecuteTime": {
     "end_time": "2025-07-12T16:46:19.583927Z",
     "start_time": "2025-07-12T16:46:19.449104Z"
    }
   },
   "source": [
    "from Workbench.CryptoTrader.HTXCryptoTrader import HTXCryptoTrader\n",
    "\n",
    "trader = HTXCryptoTrader(start_ws=False)"
   ],
   "outputs": [],
   "execution_count": 313
  },
  {
   "metadata": {
    "ExecuteTime": {
     "end_time": "2025-07-12T16:46:19.858103Z",
     "start_time": "2025-07-12T16:46:19.588027Z"
    }
   },
   "cell_type": "code",
   "source": "account = trader.get_future_account_info()",
   "id": "e775d8271f33564e",
   "outputs": [],
   "execution_count": 314
  },
  {
   "metadata": {
    "ExecuteTime": {
     "end_time": "2025-07-12T16:46:20.202239Z",
     "start_time": "2025-07-12T16:46:19.889353Z"
    }
   },
   "cell_type": "code",
   "source": "trader.get_future_account_info()['contract_detail']",
   "id": "59f17e4b7e4a77d1",
   "outputs": [
    {
     "data": {
      "text/plain": [
       "0    [{'symbol': 'SATS', 'contract_code': 'SATS-USD...\n",
       "Name: contract_detail, dtype: object"
      ]
     },
     "execution_count": 315,
     "metadata": {},
     "output_type": "execute_result"
    }
   ],
   "execution_count": 315
  },
  {
   "metadata": {
    "ExecuteTime": {
     "end_time": "2025-07-12T16:46:20.364140Z",
     "start_time": "2025-07-12T16:46:20.218166Z"
    }
   },
   "cell_type": "code",
   "source": "position = list(trader.get_future_account_info()['contract_detail'].values[0])",
   "id": "1fe739b4a2a2bae3",
   "outputs": [],
   "execution_count": 316
  },
  {
   "metadata": {
    "ExecuteTime": {
     "end_time": "2025-07-12T16:46:20.393547Z",
     "start_time": "2025-07-12T16:46:20.390711Z"
    }
   },
   "cell_type": "code",
   "source": [
    "for pos in position:\n",
    "    if pos['margin_position']:\n",
    "        print(pos)"
   ],
   "id": "de6a7262b75f59d1",
   "outputs": [
    {
     "name": "stdout",
     "output_type": "stream",
     "text": [
      "{'symbol': 'TRUMP', 'contract_code': 'TRUMP-USDT', 'margin_position': 6.90653, 'margin_frozen': 0.0, 'margin_available': 114.9030502051795, 'profit_unreal': 0.2555, 'liquidation_price': None, 'lever_rate': 10, 'adjust_factor': 0.2, 'contract_type': 'swap', 'pair': 'TRUMP-USDT', 'business_type': 'swap', 'trade_partition': 'USDT', 'cross_max_available': 0}\n",
      "{'symbol': 'SUI', 'contract_code': 'SUI-USDT', 'margin_position': 6.7074, 'margin_frozen': 0.0, 'margin_available': 114.9030502051795, 'profit_unreal': 0.186, 'liquidation_price': None, 'lever_rate': 10, 'adjust_factor': 0.15, 'contract_type': 'swap', 'pair': 'SUI-USDT', 'business_type': 'swap', 'trade_partition': 'USDT', 'cross_max_available': 0}\n",
      "{'symbol': 'XMR', 'contract_code': 'XMR-USDT', 'margin_position': 6.96507, 'margin_frozen': 0.0, 'margin_available': 114.9030502051795, 'profit_unreal': -1.0605, 'liquidation_price': 1051.1064435349183, 'lever_rate': 10, 'adjust_factor': 0.2, 'contract_type': 'swap', 'pair': 'XMR-USDT', 'business_type': 'swap', 'trade_partition': 'USDT', 'cross_max_available': 0}\n",
      "{'symbol': 'XRP', 'contract_code': 'XRP-USDT', 'margin_position': 5.43338, 'margin_frozen': 0.0, 'margin_available': 114.9030502051795, 'profit_unreal': 0.7584, 'liquidation_price': None, 'lever_rate': 10, 'adjust_factor': 0.1, 'contract_type': 'swap', 'pair': 'XRP-USDT', 'business_type': 'swap', 'trade_partition': 'USDT', 'cross_max_available': 0}\n",
      "{'symbol': 'XLM', 'contract_code': 'XLM-USDT', 'margin_position': 6.98346, 'margin_frozen': 0.0, 'margin_available': 114.9030502051795, 'profit_unreal': -1.3284, 'liquidation_price': 1.2273125174574047, 'lever_rate': 10, 'adjust_factor': 0.2, 'contract_type': 'swap', 'pair': 'XLM-USDT', 'business_type': 'swap', 'trade_partition': 'USDT', 'cross_max_available': 0}\n",
      "{'symbol': 'DOT', 'contract_code': 'DOT-USDT', 'margin_position': 6.96312, 'margin_frozen': 0.0, 'margin_available': 114.9030502051795, 'profit_unreal': -1.3086, 'liquidation_price': 12.344928394124285, 'lever_rate': 10, 'adjust_factor': 0.1, 'contract_type': 'swap', 'pair': 'DOT-USDT', 'business_type': 'swap', 'trade_partition': 'USDT', 'cross_max_available': 0}\n",
      "{'symbol': 'WIF', 'contract_code': 'WIF-USDT', 'margin_position': 7.07256, 'margin_frozen': 0.0, 'margin_available': 114.9030502051795, 'profit_unreal': 1.1932, 'liquidation_price': None, 'lever_rate': 10, 'adjust_factor': 0.2, 'contract_type': 'swap', 'pair': 'WIF-USDT', 'business_type': 'swap', 'trade_partition': 'USDT', 'cross_max_available': 0}\n"
     ]
    }
   ],
   "execution_count": 317
  },
  {
   "metadata": {
    "ExecuteTime": {
     "end_time": "2025-07-12T16:46:20.723146Z",
     "start_time": "2025-07-12T16:46:20.415136Z"
    }
   },
   "cell_type": "code",
   "source": [
    "ret = trader.get_active_position_symbol()\n",
    "print(ret)\n"
   ],
   "id": "f35bddf001d186b6",
   "outputs": [
    {
     "name": "stdout",
     "output_type": "stream",
     "text": [
      "['TRUMPUSDT', 'SUIUSDT', 'XMRUSDT', 'XRPUSDT', 'XLMUSDT', 'DOTUSDT', 'WIFUSDT']\n"
     ]
    }
   ],
   "execution_count": 318
  }
 ],
 "metadata": {
  "kernelspec": {
   "display_name": "Python 3",
   "language": "python",
   "name": "python3"
  },
  "language_info": {
   "codemirror_mode": {
    "name": "ipython",
    "version": 2
   },
   "file_extension": ".py",
   "mimetype": "text/x-python",
   "name": "python",
   "nbconvert_exporter": "python",
   "pygments_lexer": "ipython2",
   "version": "2.7.6"
  }
 },
 "nbformat": 4,
 "nbformat_minor": 5
}
