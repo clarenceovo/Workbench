{
 "cells": [
  {
   "cell_type": "code",
   "id": "initial_id",
   "metadata": {
    "collapsed": true,
    "ExecuteTime": {
     "end_time": "2025-06-07T02:51:16.756003Z",
     "start_time": "2025-06-07T02:51:14.903028Z"
    }
   },
   "source": [
    "from Workbench.CryptoTrader.HTXCryptoTrader import HTXCryptoTrader\n",
    "\n",
    "trader = HTXCryptoTrader(start_ws=True)"
   ],
   "outputs": [
    {
     "name": "stderr",
     "output_type": "stream",
     "text": [
      "2025-06-07 10:51:15,749 - Workbench.transport.websocket_client - INFO - Initializing WebSocket client...URL: wss://api.hbdm.com/linear-swap-trade\n",
      "2025-06-07 10:51:15,750 - Workbench.transport.websocket_client - INFO - Initializing WebSocket client...URL: wss://api.hbdm.com/linear-swap-notification\n",
      "2025-06-07 10:51:15,751 - HTXCryptoTrader - INFO - HTX WebSocket clients started.\n",
      "2025-06-07 10:51:16,213 - websocket - INFO - Websocket connected\n",
      "2025-06-07 10:51:16,213 - websocket - INFO - Websocket connected\n",
      "2025-06-07 10:51:16,752 - HTXCryptoTrader - INFO - Authenticating HTX WebSocket connection...\n",
      "2025-06-07 10:51:16,753 - HTXCryptoTrader - INFO - HTX WebSocket authentication message sent.\n",
      "2025-06-07 10:51:16,754 - HTXCryptoTrader - INFO - Subscribing to HTX WebSocket channels...\n",
      "2025-06-07 10:51:16,754 - HTXCryptoTrader - INFO - Authenticating HTX Notification WebSocket connection...\n",
      "2025-06-07 10:51:16,754 - HTXCryptoTrader - INFO - HTX Notification WebSocket authentication message sent.\n",
      "2025-06-07 10:51:16,754 - HTXCryptoTrader - INFO - Subscribing to HTX WebSocket notification channels...\n"
     ]
    }
   ],
   "execution_count": 1
  },
  {
   "metadata": {
    "ExecuteTime": {
     "end_time": "2025-06-07T02:51:17.183623Z",
     "start_time": "2025-06-07T02:51:16.868879Z"
    }
   },
   "cell_type": "code",
   "source": "balance = trader.get_future_account_info()",
   "id": "1fe739b4a2a2bae3",
   "outputs": [],
   "execution_count": 2
  }
 ],
 "metadata": {
  "kernelspec": {
   "display_name": "Python 3",
   "language": "python",
   "name": "python3"
  },
  "language_info": {
   "codemirror_mode": {
    "name": "ipython",
    "version": 2
   },
   "file_extension": ".py",
   "mimetype": "text/x-python",
   "name": "python",
   "nbconvert_exporter": "python",
   "pygments_lexer": "ipython2",
   "version": "2.7.6"
  }
 },
 "nbformat": 4,
 "nbformat_minor": 5
}
