{
 "cells": [
  {
   "cell_type": "code",
   "id": "initial_id",
   "metadata": {
    "collapsed": true,
    "ExecuteTime": {
     "end_time": "2025-06-12T15:56:08.014516Z",
     "start_time": "2025-06-12T15:56:07.787360Z"
    }
   },
   "source": [
    "from Workbench.CryptoTrader.HTXCryptoTrader import HTXCryptoTrader\n",
    "\n",
    "trader = HTXCryptoTrader(start_ws=False)"
   ],
   "outputs": [],
   "execution_count": 129
  },
  {
   "metadata": {
    "ExecuteTime": {
     "end_time": "2025-06-12T15:56:08.244389Z",
     "start_time": "2025-06-12T15:56:08.019108Z"
    }
   },
   "cell_type": "code",
   "source": "account = trader.get_future_account_info()",
   "id": "e775d8271f33564e",
   "outputs": [],
   "execution_count": 130
  },
  {
   "metadata": {
    "ExecuteTime": {
     "end_time": "2025-06-12T15:56:08.482847Z",
     "start_time": "2025-06-12T15:56:08.273194Z"
    }
   },
   "cell_type": "code",
   "source": "position = list(trader.get_future_account_info()['contract_detail'].values[0])",
   "id": "1fe739b4a2a2bae3",
   "outputs": [],
   "execution_count": 131
  },
  {
   "metadata": {
    "ExecuteTime": {
     "end_time": "2025-06-12T15:56:08.506779Z",
     "start_time": "2025-06-12T15:56:08.504387Z"
    }
   },
   "cell_type": "code",
   "source": [
    "for pos in position:\n",
    "    if pos['margin_position'] > 0:\n",
    "        print(pos)\n"
   ],
   "id": "f35bddf001d186b6",
   "outputs": [
    {
     "name": "stdout",
     "output_type": "stream",
     "text": [
      "{'symbol': 'SOPH', 'contract_code': 'SOPH-USDT', 'margin_position': 9.76, 'margin_frozen': 0.0, 'margin_available': 28.948139842537163, 'profit_unreal': -0.196, 'liquidation_price': 0.026114210284419816, 'lever_rate': 10, 'adjust_factor': 0.2, 'contract_type': 'swap', 'pair': 'SOPH-USDT', 'business_type': 'swap', 'trade_partition': 'USDT', 'cross_max_available': 0}\n",
      "{'symbol': 'IO', 'contract_code': 'IO-USDT', 'margin_position': 9.63501, 'margin_frozen': 0.0, 'margin_available': 28.948139842537163, 'profit_unreal': -3.2379, 'liquidation_price': 0.3951823299910049, 'lever_rate': 10, 'adjust_factor': 0.2, 'contract_type': 'swap', 'pair': 'IO-USDT', 'business_type': 'swap', 'trade_partition': 'USDT', 'cross_max_available': 0}\n"
     ]
    }
   ],
   "execution_count": 132
  }
 ],
 "metadata": {
  "kernelspec": {
   "display_name": "Python 3",
   "language": "python",
   "name": "python3"
  },
  "language_info": {
   "codemirror_mode": {
    "name": "ipython",
    "version": 2
   },
   "file_extension": ".py",
   "mimetype": "text/x-python",
   "name": "python",
   "nbconvert_exporter": "python",
   "pygments_lexer": "ipython2",
   "version": "2.7.6"
  }
 },
 "nbformat": 4,
 "nbformat_minor": 5
}
