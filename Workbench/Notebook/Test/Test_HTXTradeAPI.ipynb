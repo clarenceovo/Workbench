{
 "cells": [
  {
   "cell_type": "code",
   "id": "initial_id",
   "metadata": {
    "collapsed": true,
    "ExecuteTime": {
     "end_time": "2025-06-07T05:09:45.412143Z",
     "start_time": "2025-06-07T05:09:43.967080Z"
    }
   },
   "source": [
    "from Workbench.CryptoTrader.HTXCryptoTrader import HTXCryptoTrader\n",
    "\n",
    "trader = HTXCryptoTrader(start_ws=False)"
   ],
   "outputs": [],
   "execution_count": 1
  },
  {
   "metadata": {
    "ExecuteTime": {
     "end_time": "2025-06-07T05:09:45.953309Z",
     "start_time": "2025-06-07T05:09:45.444269Z"
    }
   },
   "cell_type": "code",
   "source": "balance = trader.get_order_by_id(symbol=\"SOLV-USDT\",order_id='1380879132493266946')",
   "id": "1fe739b4a2a2bae3",
   "outputs": [
    {
     "ename": "Exception",
     "evalue": "HTX API returned error: {'status': 'error', 'err_code': 1030, 'err_msg': 'Input error.', 'ts': 1749272985830}",
     "output_type": "error",
     "traceback": [
      "\u001B[31m---------------------------------------------------------------------------\u001B[39m",
      "\u001B[31mException\u001B[39m                                 Traceback (most recent call last)",
      "\u001B[36mCell\u001B[39m\u001B[36m \u001B[39m\u001B[32mIn[2]\u001B[39m\u001B[32m, line 1\u001B[39m\n\u001B[32m----> \u001B[39m\u001B[32m1\u001B[39m balance = \u001B[43mtrader\u001B[49m\u001B[43m.\u001B[49m\u001B[43mget_order_by_id\u001B[49m\u001B[43m(\u001B[49m\u001B[43msymbol\u001B[49m\u001B[43m=\u001B[49m\u001B[33;43m\"\u001B[39;49m\u001B[33;43mSOLV-USDT\u001B[39;49m\u001B[33;43m\"\u001B[39;49m\u001B[43m,\u001B[49m\u001B[43morder_id\u001B[49m\u001B[43m=\u001B[49m\u001B[33;43m'\u001B[39;49m\u001B[33;43m1380879132493266946\u001B[39;49m\u001B[33;43m'\u001B[39;49m\u001B[43m)\u001B[49m\n",
      "\u001B[36mFile \u001B[39m\u001B[32m~/PycharmProjects/Workbench/Workbench/CryptoTrader/HTXCryptoTrader.py:324\u001B[39m, in \u001B[36mHTXCryptoTrader.get_order_by_id\u001B[39m\u001B[34m(self, symbol, order_id)\u001B[39m\n\u001B[32m    322\u001B[39m         \u001B[38;5;28;01mreturn\u001B[39;00m data[\u001B[33m\"\u001B[39m\u001B[33mdata\u001B[39m\u001B[33m\"\u001B[39m][\u001B[32m0\u001B[39m]  \u001B[38;5;66;03m# Assuming it's a list of one order\u001B[39;00m\n\u001B[32m    323\u001B[39m     \u001B[38;5;28;01melse\u001B[39;00m:\n\u001B[32m--> \u001B[39m\u001B[32m324\u001B[39m         \u001B[38;5;28;01mraise\u001B[39;00m \u001B[38;5;167;01mException\u001B[39;00m(\u001B[33mf\u001B[39m\u001B[33m\"\u001B[39m\u001B[33mHTX API returned error: \u001B[39m\u001B[38;5;132;01m{\u001B[39;00mdata\u001B[38;5;132;01m}\u001B[39;00m\u001B[33m\"\u001B[39m)\n\u001B[32m    325\u001B[39m \u001B[38;5;28;01melse\u001B[39;00m:\n\u001B[32m    326\u001B[39m     \u001B[38;5;28;01mraise\u001B[39;00m \u001B[38;5;167;01mException\u001B[39;00m(\u001B[33mf\u001B[39m\u001B[33m\"\u001B[39m\u001B[33mFailed to get order info: \u001B[39m\u001B[38;5;132;01m{\u001B[39;00mresponse.status_code\u001B[38;5;132;01m}\u001B[39;00m\u001B[33m - \u001B[39m\u001B[38;5;132;01m{\u001B[39;00mresponse.text\u001B[38;5;132;01m}\u001B[39;00m\u001B[33m\"\u001B[39m)\n",
      "\u001B[31mException\u001B[39m: HTX API returned error: {'status': 'error', 'err_code': 1030, 'err_msg': 'Input error.', 'ts': 1749272985830}"
     ]
    }
   ],
   "execution_count": 2
  },
  {
   "metadata": {
    "ExecuteTime": {
     "end_time": "2025-06-07T05:09:53.399588Z",
     "start_time": "2025-06-07T05:09:53.016654Z"
    }
   },
   "cell_type": "code",
   "source": [
    "from Workbench.CryptoTrader.BinanceCryptoTrader import BinanceCryptoTrader\n",
    "bn = BinanceCryptoTrader(start_ws=False)\n",
    "order = bn.get_order_by_id(symbol=\"SOLVUSDT\")"
   ],
   "id": "17680ba779c11676",
   "outputs": [
    {
     "ename": "TypeError",
     "evalue": "BinanceCryptoTrader.get_order_by_id() missing 1 required positional argument: 'order_id'",
     "output_type": "error",
     "traceback": [
      "\u001B[31m---------------------------------------------------------------------------\u001B[39m",
      "\u001B[31mTypeError\u001B[39m                                 Traceback (most recent call last)",
      "\u001B[36mCell\u001B[39m\u001B[36m \u001B[39m\u001B[32mIn[3]\u001B[39m\u001B[32m, line 3\u001B[39m\n\u001B[32m      1\u001B[39m \u001B[38;5;28;01mfrom\u001B[39;00m\u001B[38;5;250m \u001B[39m\u001B[34;01mWorkbench\u001B[39;00m\u001B[34;01m.\u001B[39;00m\u001B[34;01mCryptoTrader\u001B[39;00m\u001B[34;01m.\u001B[39;00m\u001B[34;01mBinanceCryptoTrader\u001B[39;00m\u001B[38;5;250m \u001B[39m\u001B[38;5;28;01mimport\u001B[39;00m BinanceCryptoTrader\n\u001B[32m      2\u001B[39m bn = BinanceCryptoTrader(start_ws=\u001B[38;5;28;01mFalse\u001B[39;00m)\n\u001B[32m----> \u001B[39m\u001B[32m3\u001B[39m order = \u001B[43mbn\u001B[49m\u001B[43m.\u001B[49m\u001B[43mget_order_by_id\u001B[49m\u001B[43m(\u001B[49m\u001B[43msymbol\u001B[49m\u001B[43m=\u001B[49m\u001B[33;43m\"\u001B[39;49m\u001B[33;43mSOLVUSDT\u001B[39;49m\u001B[33;43m\"\u001B[39;49m\u001B[43m)\u001B[49m\n",
      "\u001B[31mTypeError\u001B[39m: BinanceCryptoTrader.get_order_by_id() missing 1 required positional argument: 'order_id'"
     ]
    }
   ],
   "execution_count": 3
  }
 ],
 "metadata": {
  "kernelspec": {
   "display_name": "Python 3",
   "language": "python",
   "name": "python3"
  },
  "language_info": {
   "codemirror_mode": {
    "name": "ipython",
    "version": 2
   },
   "file_extension": ".py",
   "mimetype": "text/x-python",
   "name": "python",
   "nbconvert_exporter": "python",
   "pygments_lexer": "ipython2",
   "version": "2.7.6"
  }
 },
 "nbformat": 4,
 "nbformat_minor": 5
}
