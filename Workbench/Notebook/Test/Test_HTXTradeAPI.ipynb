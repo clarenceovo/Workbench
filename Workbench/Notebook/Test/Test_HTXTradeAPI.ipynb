{
 "cells": [
  {
   "cell_type": "code",
   "id": "initial_id",
   "metadata": {
    "collapsed": true,
    "ExecuteTime": {
     "end_time": "2025-06-12T14:31:38.627763Z",
     "start_time": "2025-06-12T14:31:38.406811Z"
    }
   },
   "source": [
    "from Workbench.CryptoTrader.HTXCryptoTrader import HTXCryptoTrader\n",
    "\n",
    "trader = HTXCryptoTrader(start_ws=False)"
   ],
   "outputs": [],
   "execution_count": 9
  },
  {
   "metadata": {
    "ExecuteTime": {
     "end_time": "2025-06-12T14:31:38.861131Z",
     "start_time": "2025-06-12T14:31:38.659627Z"
    }
   },
   "cell_type": "code",
   "source": "account = trader.get_future_account_info()",
   "id": "e775d8271f33564e",
   "outputs": [],
   "execution_count": 10
  },
  {
   "metadata": {
    "ExecuteTime": {
     "end_time": "2025-06-12T14:31:39.039041Z",
     "start_time": "2025-06-12T14:31:38.864280Z"
    }
   },
   "cell_type": "code",
   "source": "position = list(trader.get_future_account_info()['contract_detail'].values[0])",
   "id": "1fe739b4a2a2bae3",
   "outputs": [],
   "execution_count": 11
  },
  {
   "metadata": {
    "ExecuteTime": {
     "end_time": "2025-06-12T14:31:39.054615Z",
     "start_time": "2025-06-12T14:31:39.052192Z"
    }
   },
   "cell_type": "code",
   "source": [
    "for pos in position:\n",
    "    if pos['margin_position'] > 0:\n",
    "        print(pos)\n"
   ],
   "id": "f35bddf001d186b6",
   "outputs": [],
   "execution_count": 12
  }
 ],
 "metadata": {
  "kernelspec": {
   "display_name": "Python 3",
   "language": "python",
   "name": "python3"
  },
  "language_info": {
   "codemirror_mode": {
    "name": "ipython",
    "version": 2
   },
   "file_extension": ".py",
   "mimetype": "text/x-python",
   "name": "python",
   "nbconvert_exporter": "python",
   "pygments_lexer": "ipython2",
   "version": "2.7.6"
  }
 },
 "nbformat": 4,
 "nbformat_minor": 5
}
