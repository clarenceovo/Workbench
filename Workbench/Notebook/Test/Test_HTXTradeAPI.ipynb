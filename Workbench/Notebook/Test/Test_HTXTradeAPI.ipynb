{
 "cells": [
  {
   "cell_type": "code",
   "id": "initial_id",
   "metadata": {
    "collapsed": true,
    "ExecuteTime": {
     "end_time": "2025-07-07T15:28:42.127142Z",
     "start_time": "2025-07-07T15:28:40.333936Z"
    }
   },
   "source": [
    "from Workbench.CryptoTrader.HTXCryptoTrader import HTXCryptoTrader\n",
    "\n",
    "trader = HTXCryptoTrader(start_ws=False)"
   ],
   "outputs": [],
   "execution_count": 1
  },
  {
   "metadata": {
    "ExecuteTime": {
     "end_time": "2025-07-07T15:28:42.316384Z",
     "start_time": "2025-07-07T15:28:42.155321Z"
    }
   },
   "cell_type": "code",
   "source": "account = trader.get_future_account_info()",
   "id": "e775d8271f33564e",
   "outputs": [],
   "execution_count": 2
  },
  {
   "metadata": {
    "ExecuteTime": {
     "end_time": "2025-07-07T15:28:42.623752Z",
     "start_time": "2025-07-07T15:28:42.440939Z"
    }
   },
   "cell_type": "code",
   "source": "trader.get_future_account_info()['contract_detail']",
   "id": "59f17e4b7e4a77d1",
   "outputs": [
    {
     "data": {
      "text/plain": [
       "0    [{'symbol': 'SATS', 'contract_code': 'SATS-USD...\n",
       "Name: contract_detail, dtype: object"
      ]
     },
     "execution_count": 3,
     "metadata": {},
     "output_type": "execute_result"
    }
   ],
   "execution_count": 3
  },
  {
   "metadata": {
    "ExecuteTime": {
     "end_time": "2025-07-07T15:28:42.853908Z",
     "start_time": "2025-07-07T15:28:42.691486Z"
    }
   },
   "cell_type": "code",
   "source": "position = list(trader.get_future_account_info()['contract_detail'].values[0])",
   "id": "1fe739b4a2a2bae3",
   "outputs": [],
   "execution_count": 4
  },
  {
   "metadata": {
    "ExecuteTime": {
     "end_time": "2025-07-07T15:31:35.223959Z",
     "start_time": "2025-07-07T15:31:35.101890Z"
    }
   },
   "cell_type": "code",
   "source": [
    "for pos in position:\n",
    "    if pos['margin_position']:\n",
    "        print(pos)"
   ],
   "id": "de6a7262b75f59d1",
   "outputs": [
    {
     "name": "stdout",
     "output_type": "stream",
     "text": [
      "{'symbol': 'SUI', 'contract_code': 'SUI-USDT', 'margin_position': 4.91878, 'margin_frozen': 0.0, 'margin_available': 143.88568657183544, 'profit_unreal': -0.0068, 'liquidation_price': None, 'lever_rate': 10, 'adjust_factor': 0.15, 'contract_type': 'swap', 'pair': 'SUI-USDT', 'business_type': 'swap', 'trade_partition': 'USDT', 'cross_max_available': 0}\n",
      "{'symbol': 'XMR', 'contract_code': 'XMR-USDT', 'margin_position': 14.5199, 'margin_frozen': 0.0, 'margin_available': 143.88568657183544, 'profit_unreal': 2.0658, 'liquidation_price': 689.4378464872877, 'lever_rate': 10, 'adjust_factor': 0.2, 'contract_type': 'swap', 'pair': 'XMR-USDT', 'business_type': 'swap', 'trade_partition': 'USDT', 'cross_max_available': 0}\n",
      "{'symbol': 'SOPH', 'contract_code': 'SOPH-USDT', 'margin_position': 9.2619, 'margin_frozen': 0.0, 'margin_available': 143.88568657183544, 'profit_unreal': -5.52, 'liquidation_price': None, 'lever_rate': 10, 'adjust_factor': 0.2, 'contract_type': 'swap', 'pair': 'SOPH-USDT', 'business_type': 'swap', 'trade_partition': 'USDT', 'cross_max_available': 0}\n",
      "{'symbol': 'WIF', 'contract_code': 'WIF-USDT', 'margin_position': 10.36146, 'margin_frozen': 0.0, 'margin_available': 143.88568657183544, 'profit_unreal': 3.9772, 'liquidation_price': None, 'lever_rate': 10, 'adjust_factor': 0.2, 'contract_type': 'swap', 'pair': 'WIF-USDT', 'business_type': 'swap', 'trade_partition': 'USDT', 'cross_max_available': 0}\n"
     ]
    }
   ],
   "execution_count": 8
  },
  {
   "metadata": {
    "ExecuteTime": {
     "end_time": "2025-07-07T15:28:43.077940Z",
     "start_time": "2025-07-07T15:28:42.914002Z"
    }
   },
   "cell_type": "code",
   "source": [
    "ret = trader.get_active_position_symbol()\n",
    "print(ret)\n"
   ],
   "id": "f35bddf001d186b6",
   "outputs": [
    {
     "name": "stdout",
     "output_type": "stream",
     "text": [
      "['SUIUSDT', 'XMRUSDT', 'SOPHUSDT', 'WIFUSDT']\n"
     ]
    }
   ],
   "execution_count": 5
  }
 ],
 "metadata": {
  "kernelspec": {
   "display_name": "Python 3",
   "language": "python",
   "name": "python3"
  },
  "language_info": {
   "codemirror_mode": {
    "name": "ipython",
    "version": 2
   },
   "file_extension": ".py",
   "mimetype": "text/x-python",
   "name": "python",
   "nbconvert_exporter": "python",
   "pygments_lexer": "ipython2",
   "version": "2.7.6"
  }
 },
 "nbformat": 4,
 "nbformat_minor": 5
}
