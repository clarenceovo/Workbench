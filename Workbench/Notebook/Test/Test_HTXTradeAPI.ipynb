{
 "cells": [
  {
   "cell_type": "code",
   "id": "initial_id",
   "metadata": {
    "collapsed": true,
    "ExecuteTime": {
     "end_time": "2025-07-12T11:07:30.383583Z",
     "start_time": "2025-07-12T11:07:30.162189Z"
    }
   },
   "source": [
    "from Workbench.CryptoTrader.HTXCryptoTrader import HTXCryptoTrader\n",
    "\n",
    "trader = HTXCryptoTrader(start_ws=False)"
   ],
   "outputs": [],
   "execution_count": 25
  },
  {
   "metadata": {
    "ExecuteTime": {
     "end_time": "2025-07-12T11:07:30.622266Z",
     "start_time": "2025-07-12T11:07:30.466515Z"
    }
   },
   "cell_type": "code",
   "source": "account = trader.get_future_account_info()",
   "id": "e775d8271f33564e",
   "outputs": [],
   "execution_count": 26
  },
  {
   "metadata": {
    "ExecuteTime": {
     "end_time": "2025-07-12T11:07:30.813142Z",
     "start_time": "2025-07-12T11:07:30.637295Z"
    }
   },
   "cell_type": "code",
   "source": "trader.get_future_account_info()['contract_detail']",
   "id": "59f17e4b7e4a77d1",
   "outputs": [
    {
     "data": {
      "text/plain": [
       "0    [{'symbol': 'SATS', 'contract_code': 'SATS-USD...\n",
       "Name: contract_detail, dtype: object"
      ]
     },
     "execution_count": 27,
     "metadata": {},
     "output_type": "execute_result"
    }
   ],
   "execution_count": 27
  },
  {
   "metadata": {
    "ExecuteTime": {
     "end_time": "2025-07-12T11:07:30.986961Z",
     "start_time": "2025-07-12T11:07:30.840522Z"
    }
   },
   "cell_type": "code",
   "source": "position = list(trader.get_future_account_info()['contract_detail'].values[0])",
   "id": "1fe739b4a2a2bae3",
   "outputs": [],
   "execution_count": 28
  },
  {
   "metadata": {
    "ExecuteTime": {
     "end_time": "2025-07-12T11:07:31.035410Z",
     "start_time": "2025-07-12T11:07:31.030442Z"
    }
   },
   "cell_type": "code",
   "source": [
    "for pos in position:\n",
    "    if pos['margin_position']:\n",
    "        print(pos)"
   ],
   "id": "de6a7262b75f59d1",
   "outputs": [
    {
     "name": "stdout",
     "output_type": "stream",
     "text": [
      "{'symbol': 'SUI', 'contract_code': 'SUI-USDT', 'margin_position': 6.8712, 'margin_frozen': 0.0, 'margin_available': 151.76893906182858, 'profit_unreal': -0.504, 'liquidation_price': None, 'lever_rate': 10, 'adjust_factor': 0.15, 'contract_type': 'swap', 'pair': 'SUI-USDT', 'business_type': 'swap', 'trade_partition': 'USDT', 'cross_max_available': 0}\n",
      "{'symbol': 'SOPH', 'contract_code': 'SOPH-USDT', 'margin_position': 11.0895, 'margin_frozen': 0.0, 'margin_available': 151.76893906182858, 'profit_unreal': 12.756, 'liquidation_price': None, 'lever_rate': 10, 'adjust_factor': 0.2, 'contract_type': 'swap', 'pair': 'SOPH-USDT', 'business_type': 'swap', 'trade_partition': 'USDT', 'cross_max_available': 0}\n",
      "{'symbol': 'M', 'contract_code': 'M-USDT', 'margin_position': 38.016, 'margin_frozen': 0.0, 'margin_available': 151.76893906182858, 'profit_unreal': 1.0079999999999991, 'liquidation_price': 1.061468879923436, 'lever_rate': 10, 'adjust_factor': 0.2, 'contract_type': 'swap', 'pair': 'M-USDT', 'business_type': 'swap', 'trade_partition': 'USDT', 'cross_max_available': 0}\n"
     ]
    }
   ],
   "execution_count": 29
  },
  {
   "metadata": {
    "ExecuteTime": {
     "end_time": "2025-07-12T11:07:31.230554Z",
     "start_time": "2025-07-12T11:07:31.082553Z"
    }
   },
   "cell_type": "code",
   "source": [
    "ret = trader.get_active_position_symbol()\n",
    "print(ret)\n"
   ],
   "id": "f35bddf001d186b6",
   "outputs": [
    {
     "name": "stdout",
     "output_type": "stream",
     "text": [
      "['SUIUSDT', 'SOPHUSDT', 'MUSDT']\n"
     ]
    }
   ],
   "execution_count": 30
  }
 ],
 "metadata": {
  "kernelspec": {
   "display_name": "Python 3",
   "language": "python",
   "name": "python3"
  },
  "language_info": {
   "codemirror_mode": {
    "name": "ipython",
    "version": 2
   },
   "file_extension": ".py",
   "mimetype": "text/x-python",
   "name": "python",
   "nbconvert_exporter": "python",
   "pygments_lexer": "ipython2",
   "version": "2.7.6"
  }
 },
 "nbformat": 4,
 "nbformat_minor": 5
}
