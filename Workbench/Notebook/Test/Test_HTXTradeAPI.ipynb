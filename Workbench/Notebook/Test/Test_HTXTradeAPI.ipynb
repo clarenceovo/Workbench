{
 "cells": [
  {
   "cell_type": "code",
   "id": "initial_id",
   "metadata": {
    "collapsed": true,
    "ExecuteTime": {
     "end_time": "2025-06-10T15:37:10.398676Z",
     "start_time": "2025-06-10T15:37:10.113301Z"
    }
   },
   "source": [
    "from Workbench.CryptoTrader.HTXCryptoTrader import HTXCryptoTrader\n",
    "\n",
    "trader = HTXCryptoTrader(start_ws=False)"
   ],
   "outputs": [],
   "execution_count": 89
  },
  {
   "metadata": {
    "ExecuteTime": {
     "end_time": "2025-06-10T15:37:10.683200Z",
     "start_time": "2025-06-10T15:37:10.409013Z"
    }
   },
   "cell_type": "code",
   "source": "account = trader.get_future_account_info()",
   "id": "e775d8271f33564e",
   "outputs": [],
   "execution_count": 90
  },
  {
   "metadata": {
    "ExecuteTime": {
     "end_time": "2025-06-10T15:37:11.052938Z",
     "start_time": "2025-06-10T15:37:10.708290Z"
    }
   },
   "cell_type": "code",
   "source": "position = list(trader.get_future_account_info()['contract_detail'].values[0])",
   "id": "1fe739b4a2a2bae3",
   "outputs": [],
   "execution_count": 91
  },
  {
   "metadata": {
    "ExecuteTime": {
     "end_time": "2025-06-10T15:37:11.086904Z",
     "start_time": "2025-06-10T15:37:11.083808Z"
    }
   },
   "cell_type": "code",
   "source": [
    "for pos in position:\n",
    "    if pos['margin_position'] > 0:\n",
    "        print(pos)\n"
   ],
   "id": "f35bddf001d186b6",
   "outputs": [
    {
     "name": "stdout",
     "output_type": "stream",
     "text": [
      "{'symbol': 'DOGE', 'contract_code': 'DOGE-USDT', 'margin_position': 9.477, 'margin_frozen': 0.0, 'margin_available': 53.478218281905555, 'profit_unreal': -0.354, 'liquidation_price': 0.34033976590476345, 'lever_rate': 10, 'adjust_factor': 0.1, 'contract_type': 'swap', 'pair': 'DOGE-USDT', 'business_type': 'swap', 'trade_partition': 'USDT', 'cross_max_available': 0}\n",
      "{'symbol': 'GRASS', 'contract_code': 'GRASS-USDT', 'margin_position': 8.046, 'margin_frozen': 0.0, 'margin_available': 53.478218281905555, 'profit_unreal': -0.888, 'liquidation_price': 0.06879893413506241, 'lever_rate': 10, 'adjust_factor': 0.2, 'contract_type': 'swap', 'pair': 'GRASS-USDT', 'business_type': 'swap', 'trade_partition': 'USDT', 'cross_max_available': 0}\n",
      "{'symbol': 'ETH', 'contract_code': 'ETH-USDT', 'margin_position': 8.11533, 'margin_frozen': 0.0, 'margin_available': 53.478218281905555, 'profit_unreal': 0.2382, 'liquidation_price': 153.89117983565984, 'lever_rate': 10, 'adjust_factor': 0.05, 'contract_type': 'swap', 'pair': 'ETH-USDT', 'business_type': 'swap', 'trade_partition': 'USDT', 'cross_max_available': 0}\n"
     ]
    }
   ],
   "execution_count": 92
  }
 ],
 "metadata": {
  "kernelspec": {
   "display_name": "Python 3",
   "language": "python",
   "name": "python3"
  },
  "language_info": {
   "codemirror_mode": {
    "name": "ipython",
    "version": 2
   },
   "file_extension": ".py",
   "mimetype": "text/x-python",
   "name": "python",
   "nbconvert_exporter": "python",
   "pygments_lexer": "ipython2",
   "version": "2.7.6"
  }
 },
 "nbformat": 4,
 "nbformat_minor": 5
}
