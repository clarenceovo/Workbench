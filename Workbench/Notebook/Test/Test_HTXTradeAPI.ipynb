{
 "cells": [
  {
   "cell_type": "code",
   "id": "initial_id",
   "metadata": {
    "collapsed": true,
    "ExecuteTime": {
     "end_time": "2025-05-27T23:13:13.094006Z",
     "start_time": "2025-05-27T23:13:12.268294Z"
    }
   },
   "source": [
    "from Workbench.CryptoTrader.HTXCryptoTrader import HTXCryptoTrader\n",
    "\n",
    "trader = HTXCryptoTrader(start_ws=False)"
   ],
   "outputs": [
    {
     "name": "stderr",
     "output_type": "stream",
     "text": [
      "/Users/clarenceho/Library/Python/3.9/lib/python/site-packages/urllib3/__init__.py:35: NotOpenSSLWarning: urllib3 v2 only supports OpenSSL 1.1.1+, currently the 'ssl' module is compiled with 'LibreSSL 2.8.3'. See: https://github.com/urllib3/urllib3/issues/3020\n",
      "  warnings.warn(\n",
      "2025-05-28 07:13:13,091 - Workbench.transport.websocket_client - INFO - Initializing WebSocket client...URL: wss://api.huobi.pro/ws/trade\n"
     ]
    }
   ],
   "execution_count": 1
  },
  {
   "metadata": {
    "ExecuteTime": {
     "end_time": "2025-05-27T23:13:13.605425Z",
     "start_time": "2025-05-27T23:13:13.244473Z"
    }
   },
   "cell_type": "code",
   "source": "trader.get_future_account_info()",
   "id": "13b248cadc1af665",
   "outputs": [
    {
     "data": {
      "text/plain": [
       "                             futures_contract_detail margin_mode  \\\n",
       "0  [{'symbol': 'ETH', 'contract_code': 'ETH-USDT-...       cross   \n",
       "\n",
       "  margin_account margin_asset  margin_balance  money_in  money_out  \\\n",
       "0           USDT         USDT           100.0     100.0          0   \n",
       "\n",
       "   margin_static  margin_position  margin_frozen  profit_unreal  \\\n",
       "0          100.0                0              0              0   \n",
       "\n",
       "   withdraw_available risk_rate  new_risk_rate  \\\n",
       "0               100.0      None              0   \n",
       "\n",
       "                                     contract_detail position_mode  \\\n",
       "0  [{'symbol': 'SATS', 'contract_code': 'SATS-USD...     dual_side   \n",
       "\n",
       "  fixed_margin_position margin_available  \n",
       "0                  None             None  "
      ],
      "text/html": [
       "<div>\n",
       "<style scoped>\n",
       "    .dataframe tbody tr th:only-of-type {\n",
       "        vertical-align: middle;\n",
       "    }\n",
       "\n",
       "    .dataframe tbody tr th {\n",
       "        vertical-align: top;\n",
       "    }\n",
       "\n",
       "    .dataframe thead th {\n",
       "        text-align: right;\n",
       "    }\n",
       "</style>\n",
       "<table border=\"1\" class=\"dataframe\">\n",
       "  <thead>\n",
       "    <tr style=\"text-align: right;\">\n",
       "      <th></th>\n",
       "      <th>futures_contract_detail</th>\n",
       "      <th>margin_mode</th>\n",
       "      <th>margin_account</th>\n",
       "      <th>margin_asset</th>\n",
       "      <th>margin_balance</th>\n",
       "      <th>money_in</th>\n",
       "      <th>money_out</th>\n",
       "      <th>margin_static</th>\n",
       "      <th>margin_position</th>\n",
       "      <th>margin_frozen</th>\n",
       "      <th>profit_unreal</th>\n",
       "      <th>withdraw_available</th>\n",
       "      <th>risk_rate</th>\n",
       "      <th>new_risk_rate</th>\n",
       "      <th>contract_detail</th>\n",
       "      <th>position_mode</th>\n",
       "      <th>fixed_margin_position</th>\n",
       "      <th>margin_available</th>\n",
       "    </tr>\n",
       "  </thead>\n",
       "  <tbody>\n",
       "    <tr>\n",
       "      <th>0</th>\n",
       "      <td>[{'symbol': 'ETH', 'contract_code': 'ETH-USDT-...</td>\n",
       "      <td>cross</td>\n",
       "      <td>USDT</td>\n",
       "      <td>USDT</td>\n",
       "      <td>100.0</td>\n",
       "      <td>100.0</td>\n",
       "      <td>0</td>\n",
       "      <td>100.0</td>\n",
       "      <td>0</td>\n",
       "      <td>0</td>\n",
       "      <td>0</td>\n",
       "      <td>100.0</td>\n",
       "      <td>None</td>\n",
       "      <td>0</td>\n",
       "      <td>[{'symbol': 'SATS', 'contract_code': 'SATS-USD...</td>\n",
       "      <td>dual_side</td>\n",
       "      <td>None</td>\n",
       "      <td>None</td>\n",
       "    </tr>\n",
       "  </tbody>\n",
       "</table>\n",
       "</div>"
      ]
     },
     "execution_count": 2,
     "metadata": {},
     "output_type": "execute_result"
    }
   ],
   "execution_count": 2
  }
 ],
 "metadata": {
  "kernelspec": {
   "display_name": "Python 3",
   "language": "python",
   "name": "python3"
  },
  "language_info": {
   "codemirror_mode": {
    "name": "ipython",
    "version": 2
   },
   "file_extension": ".py",
   "mimetype": "text/x-python",
   "name": "python",
   "nbconvert_exporter": "python",
   "pygments_lexer": "ipython2",
   "version": "2.7.6"
  }
 },
 "nbformat": 4,
 "nbformat_minor": 5
}
