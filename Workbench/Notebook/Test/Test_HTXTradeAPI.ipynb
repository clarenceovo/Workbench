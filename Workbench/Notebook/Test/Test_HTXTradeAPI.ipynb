{
 "cells": [
  {
   "cell_type": "code",
   "id": "initial_id",
   "metadata": {
    "collapsed": true,
    "ExecuteTime": {
     "end_time": "2025-06-30T16:20:27.191846Z",
     "start_time": "2025-06-30T16:20:25.640828Z"
    }
   },
   "source": [
    "from Workbench.CryptoTrader.HTXCryptoTrader import HTXCryptoTrader\n",
    "\n",
    "trader = HTXCryptoTrader(start_ws=False)"
   ],
   "outputs": [],
   "execution_count": 1
  },
  {
   "metadata": {
    "ExecuteTime": {
     "end_time": "2025-06-30T16:20:27.527386Z",
     "start_time": "2025-06-30T16:20:27.202042Z"
    }
   },
   "cell_type": "code",
   "source": "account = trader.get_future_account_info()",
   "id": "e775d8271f33564e",
   "outputs": [],
   "execution_count": 2
  },
  {
   "metadata": {
    "ExecuteTime": {
     "end_time": "2025-06-30T16:20:28.021080Z",
     "start_time": "2025-06-30T16:20:27.621682Z"
    }
   },
   "cell_type": "code",
   "source": "position = list(trader.get_future_account_info()['contract_detail'].values[0])",
   "id": "1fe739b4a2a2bae3",
   "outputs": [],
   "execution_count": 3
  },
  {
   "metadata": {
    "ExecuteTime": {
     "end_time": "2025-06-30T16:20:28.499868Z",
     "start_time": "2025-06-30T16:20:28.033535Z"
    }
   },
   "cell_type": "code",
   "source": [
    "ret = trader.get_active_position_symbol()\n",
    "print(ret)\n"
   ],
   "id": "f35bddf001d186b6",
   "outputs": [
    {
     "ename": "AttributeError",
     "evalue": "'str' object has no attribute 'replacce'",
     "output_type": "error",
     "traceback": [
      "\u001B[31m---------------------------------------------------------------------------\u001B[39m",
      "\u001B[31mAttributeError\u001B[39m                            Traceback (most recent call last)",
      "\u001B[36mCell\u001B[39m\u001B[36m \u001B[39m\u001B[32mIn[4]\u001B[39m\u001B[32m, line 1\u001B[39m\n\u001B[32m----> \u001B[39m\u001B[32m1\u001B[39m ret = \u001B[43mtrader\u001B[49m\u001B[43m.\u001B[49m\u001B[43mget_active_position_symbol\u001B[49m\u001B[43m(\u001B[49m\u001B[43m)\u001B[49m\n\u001B[32m      2\u001B[39m \u001B[38;5;28mprint\u001B[39m(ret)\n",
      "\u001B[36mFile \u001B[39m\u001B[32m~/PycharmProjects/Workbench/Workbench/CryptoTrader/HTXCryptoTrader.py:319\u001B[39m, in \u001B[36mHTXCryptoTrader.get_active_position_symbol\u001B[39m\u001B[34m(self)\u001B[39m\n\u001B[32m    317\u001B[39m \u001B[38;5;28;01mfor\u001B[39;00m pos \u001B[38;5;129;01min\u001B[39;00m position:\n\u001B[32m    318\u001B[39m     \u001B[38;5;28;01mif\u001B[39;00m pos[\u001B[33m'\u001B[39m\u001B[33mmargin_position\u001B[39m\u001B[33m'\u001B[39m] > \u001B[32m0\u001B[39m:\n\u001B[32m--> \u001B[39m\u001B[32m319\u001B[39m         ret.append(\u001B[43mpos\u001B[49m\u001B[43m[\u001B[49m\u001B[33;43m'\u001B[39;49m\u001B[33;43mcontract_code\u001B[39;49m\u001B[33;43m'\u001B[39;49m\u001B[43m]\u001B[49m\u001B[43m.\u001B[49m\u001B[43mreplacce\u001B[49m(\u001B[33m'\u001B[39m\u001B[33m-\u001B[39m\u001B[33m'\u001B[39m,\u001B[33m'\u001B[39m\u001B[33m'\u001B[39m))\n\u001B[32m    320\u001B[39m \u001B[38;5;28;01mreturn\u001B[39;00m ret\n",
      "\u001B[31mAttributeError\u001B[39m: 'str' object has no attribute 'replacce'"
     ]
    }
   ],
   "execution_count": 4
  }
 ],
 "metadata": {
  "kernelspec": {
   "display_name": "Python 3",
   "language": "python",
   "name": "python3"
  },
  "language_info": {
   "codemirror_mode": {
    "name": "ipython",
    "version": 2
   },
   "file_extension": ".py",
   "mimetype": "text/x-python",
   "name": "python",
   "nbconvert_exporter": "python",
   "pygments_lexer": "ipython2",
   "version": "2.7.6"
  }
 },
 "nbformat": 4,
 "nbformat_minor": 5
}
