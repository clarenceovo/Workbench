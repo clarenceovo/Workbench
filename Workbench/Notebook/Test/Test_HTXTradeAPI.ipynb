{
 "cells": [
  {
   "cell_type": "code",
   "id": "initial_id",
   "metadata": {
    "collapsed": true,
    "ExecuteTime": {
     "end_time": "2025-06-12T11:12:56.518909Z",
     "start_time": "2025-06-12T11:12:54.693586Z"
    }
   },
   "source": [
    "from Workbench.CryptoTrader.HTXCryptoTrader import HTXCryptoTrader\n",
    "\n",
    "trader = HTXCryptoTrader(start_ws=False)"
   ],
   "outputs": [],
   "execution_count": 1
  },
  {
   "metadata": {
    "ExecuteTime": {
     "end_time": "2025-06-12T11:12:56.758622Z",
     "start_time": "2025-06-12T11:12:56.541318Z"
    }
   },
   "cell_type": "code",
   "source": "account = trader.get_future_account_info()",
   "id": "e775d8271f33564e",
   "outputs": [],
   "execution_count": 2
  },
  {
   "metadata": {
    "ExecuteTime": {
     "end_time": "2025-06-12T11:12:57.007097Z",
     "start_time": "2025-06-12T11:12:56.838834Z"
    }
   },
   "cell_type": "code",
   "source": "position = list(trader.get_future_account_info()['contract_detail'].values[0])",
   "id": "1fe739b4a2a2bae3",
   "outputs": [],
   "execution_count": 3
  },
  {
   "metadata": {
    "ExecuteTime": {
     "end_time": "2025-06-12T11:12:57.026303Z",
     "start_time": "2025-06-12T11:12:57.023494Z"
    }
   },
   "cell_type": "code",
   "source": [
    "for pos in position:\n",
    "    if pos['margin_position'] > 0:\n",
    "        print(pos)\n"
   ],
   "id": "f35bddf001d186b6",
   "outputs": [
    {
     "name": "stdout",
     "output_type": "stream",
     "text": [
      "{'symbol': 'SOLV', 'contract_code': 'SOLV-USDT', 'margin_position': 9.75419, 'margin_frozen': 0.0, 'margin_available': 1.7393437425371616, 'profit_unreal': 0.03069999999999994, 'liquidation_price': 1.3432053740829706, 'lever_rate': 10, 'adjust_factor': 0.2, 'contract_type': 'swap', 'pair': 'SOLV-USDT', 'business_type': 'swap', 'trade_partition': 'USDT', 'cross_max_available': 0}\n",
      "{'symbol': 'DOGE', 'contract_code': 'DOGE-USDT', 'margin_position': 9.41435, 'margin_frozen': 0.0, 'margin_available': 1.7393437425371616, 'profit_unreal': 0.2725, 'liquidation_price': 0.2794322123614597, 'lever_rate': 10, 'adjust_factor': 0.1, 'contract_type': 'swap', 'pair': 'DOGE-USDT', 'business_type': 'swap', 'trade_partition': 'USDT', 'cross_max_available': 0}\n",
      "{'symbol': 'GRASS', 'contract_code': 'GRASS-USDT', 'margin_position': 6.8108, 'margin_frozen': 0.0, 'margin_available': 1.7393437425371616, 'profit_unreal': -13.24, 'liquidation_price': 0.5285078509556846, 'lever_rate': 10, 'adjust_factor': 0.2, 'contract_type': 'swap', 'pair': 'GRASS-USDT', 'business_type': 'swap', 'trade_partition': 'USDT', 'cross_max_available': 0}\n",
      "{'symbol': 'IO', 'contract_code': 'IO-USDT', 'margin_position': 18.41211, 'margin_frozen': 0.0, 'margin_available': 1.7393437425371616, 'profit_unreal': -14.060599999999999, 'liquidation_price': 0.5644173417211004, 'lever_rate': 10, 'adjust_factor': 0.2, 'contract_type': 'swap', 'pair': 'IO-USDT', 'business_type': 'swap', 'trade_partition': 'USDT', 'cross_max_available': 0}\n",
      "{'symbol': 'ETH', 'contract_code': 'ETH-USDT', 'margin_position': 8.24673, 'margin_frozen': 0.0, 'margin_available': 1.7393437425371616, 'profit_unreal': 1.5522, 'liquidation_price': 1206.9223201830096, 'lever_rate': 10, 'adjust_factor': 0.05, 'contract_type': 'swap', 'pair': 'ETH-USDT', 'business_type': 'swap', 'trade_partition': 'USDT', 'cross_max_available': 0}\n"
     ]
    }
   ],
   "execution_count": 4
  }
 ],
 "metadata": {
  "kernelspec": {
   "display_name": "Python 3",
   "language": "python",
   "name": "python3"
  },
  "language_info": {
   "codemirror_mode": {
    "name": "ipython",
    "version": 2
   },
   "file_extension": ".py",
   "mimetype": "text/x-python",
   "name": "python",
   "nbconvert_exporter": "python",
   "pygments_lexer": "ipython2",
   "version": "2.7.6"
  }
 },
 "nbformat": 4,
 "nbformat_minor": 5
}
