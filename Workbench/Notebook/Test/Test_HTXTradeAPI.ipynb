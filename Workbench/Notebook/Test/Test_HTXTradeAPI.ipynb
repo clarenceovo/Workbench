{
 "cells": [
  {
   "cell_type": "code",
   "id": "initial_id",
   "metadata": {
    "collapsed": true,
    "ExecuteTime": {
     "end_time": "2025-06-13T01:06:37.165179Z",
     "start_time": "2025-06-13T01:06:35.162787Z"
    }
   },
   "source": [
    "from Workbench.CryptoTrader.HTXCryptoTrader import HTXCryptoTrader\n",
    "\n",
    "trader = HTXCryptoTrader(start_ws=False)"
   ],
   "outputs": [],
   "execution_count": 153
  },
  {
   "metadata": {
    "ExecuteTime": {
     "end_time": "2025-06-13T01:06:38.095027Z",
     "start_time": "2025-06-13T01:06:37.177333Z"
    }
   },
   "cell_type": "code",
   "source": "account = trader.get_future_account_info()",
   "id": "e775d8271f33564e",
   "outputs": [],
   "execution_count": 154
  },
  {
   "metadata": {
    "ExecuteTime": {
     "end_time": "2025-06-13T01:06:39.118959Z",
     "start_time": "2025-06-13T01:06:38.150194Z"
    }
   },
   "cell_type": "code",
   "source": "position = list(trader.get_future_account_info()['contract_detail'].values[0])",
   "id": "1fe739b4a2a2bae3",
   "outputs": [],
   "execution_count": 155
  },
  {
   "metadata": {
    "ExecuteTime": {
     "end_time": "2025-06-13T01:06:39.137206Z",
     "start_time": "2025-06-13T01:06:39.133208Z"
    }
   },
   "cell_type": "code",
   "source": [
    "for pos in position:\n",
    "    if pos['margin_position'] > 0:\n",
    "        print(pos)\n"
   ],
   "id": "f35bddf001d186b6",
   "outputs": [
    {
     "name": "stdout",
     "output_type": "stream",
     "text": [
      "{'symbol': 'SOPH', 'contract_code': 'SOPH-USDT', 'margin_position': 8.82, 'margin_frozen': 0.0, 'margin_available': 0, 'profit_unreal': -11.462, 'liquidation_price': 0.03416551078768285, 'lever_rate': 10, 'adjust_factor': 0.2, 'contract_type': 'swap', 'pair': 'SOPH-USDT', 'business_type': 'swap', 'trade_partition': 'USDT', 'cross_max_available': 0}\n",
      "{'symbol': 'AAVE', 'contract_code': 'AAVE-USDT', 'margin_position': 8.16675, 'margin_frozen': 0.0, 'margin_available': 0, 'profit_unreal': -3.3183, 'liquidation_price': 205.9950719178857, 'lever_rate': 10, 'adjust_factor': 0.2, 'contract_type': 'swap', 'pair': 'AAVE-USDT', 'business_type': 'swap', 'trade_partition': 'USDT', 'cross_max_available': 0}\n",
      "{'symbol': 'DOGE', 'contract_code': 'DOGE-USDT', 'margin_position': 8.6082, 'margin_frozen': 0.0, 'margin_available': 0, 'profit_unreal': -1.1535, 'liquidation_price': 0.1328274366542594, 'lever_rate': 10, 'adjust_factor': 0.1, 'contract_type': 'swap', 'pair': 'DOGE-USDT', 'business_type': 'swap', 'trade_partition': 'USDT', 'cross_max_available': 0}\n",
      "{'symbol': 'IO', 'contract_code': 'IO-USDT', 'margin_position': 8.69718, 'margin_frozen': 0.0, 'margin_available': 0, 'profit_unreal': -12.6162, 'liquidation_price': 0.5201769114369436, 'lever_rate': 10, 'adjust_factor': 0.2, 'contract_type': 'swap', 'pair': 'IO-USDT', 'business_type': 'swap', 'trade_partition': 'USDT', 'cross_max_available': 0}\n"
     ]
    }
   ],
   "execution_count": 156
  }
 ],
 "metadata": {
  "kernelspec": {
   "display_name": "Python 3",
   "language": "python",
   "name": "python3"
  },
  "language_info": {
   "codemirror_mode": {
    "name": "ipython",
    "version": 2
   },
   "file_extension": ".py",
   "mimetype": "text/x-python",
   "name": "python",
   "nbconvert_exporter": "python",
   "pygments_lexer": "ipython2",
   "version": "2.7.6"
  }
 },
 "nbformat": 4,
 "nbformat_minor": 5
}
