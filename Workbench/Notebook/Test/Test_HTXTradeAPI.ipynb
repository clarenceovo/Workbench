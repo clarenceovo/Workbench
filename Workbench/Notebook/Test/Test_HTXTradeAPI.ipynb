{
 "cells": [
  {
   "cell_type": "code",
   "id": "initial_id",
   "metadata": {
    "collapsed": true,
    "ExecuteTime": {
     "end_time": "2025-06-12T16:42:15.407454Z",
     "start_time": "2025-06-12T16:42:15.096970Z"
    }
   },
   "source": [
    "from Workbench.CryptoTrader.HTXCryptoTrader import HTXCryptoTrader\n",
    "\n",
    "trader = HTXCryptoTrader(start_ws=False)"
   ],
   "outputs": [],
   "execution_count": 141
  },
  {
   "metadata": {
    "ExecuteTime": {
     "end_time": "2025-06-12T16:42:15.588199Z",
     "start_time": "2025-06-12T16:42:15.413286Z"
    }
   },
   "cell_type": "code",
   "source": "account = trader.get_future_account_info()",
   "id": "e775d8271f33564e",
   "outputs": [],
   "execution_count": 142
  },
  {
   "metadata": {
    "ExecuteTime": {
     "end_time": "2025-06-12T16:42:15.766458Z",
     "start_time": "2025-06-12T16:42:15.620595Z"
    }
   },
   "cell_type": "code",
   "source": "position = list(trader.get_future_account_info()['contract_detail'].values[0])",
   "id": "1fe739b4a2a2bae3",
   "outputs": [],
   "execution_count": 143
  },
  {
   "metadata": {
    "ExecuteTime": {
     "end_time": "2025-06-12T16:42:15.791399Z",
     "start_time": "2025-06-12T16:42:15.788856Z"
    }
   },
   "cell_type": "code",
   "source": [
    "for pos in position:\n",
    "    if pos['margin_position'] > 0:\n",
    "        print(pos)\n"
   ],
   "id": "f35bddf001d186b6",
   "outputs": [
    {
     "name": "stdout",
     "output_type": "stream",
     "text": [
      "{'symbol': 'AAVE', 'contract_code': 'AAVE-USDT', 'margin_position': 9.02337, 'margin_frozen': 0.0, 'margin_available': 29.65762969253716, 'profit_unreal': -0.2427, 'liquidation_price': 446.8605349429319, 'lever_rate': 10, 'adjust_factor': 0.2, 'contract_type': 'swap', 'pair': 'AAVE-USDT', 'business_type': 'swap', 'trade_partition': 'USDT', 'cross_max_available': 0}\n",
      "{'symbol': 'IO', 'contract_code': 'IO-USDT', 'margin_position': 9.78078, 'margin_frozen': 0.0, 'margin_available': 29.65762969253716, 'profit_unreal': -1.7802, 'liquidation_price': 0.4046091940156845, 'lever_rate': 10, 'adjust_factor': 0.2, 'contract_type': 'swap', 'pair': 'IO-USDT', 'business_type': 'swap', 'trade_partition': 'USDT', 'cross_max_available': 0}\n"
     ]
    }
   ],
   "execution_count": 144
  }
 ],
 "metadata": {
  "kernelspec": {
   "display_name": "Python 3",
   "language": "python",
   "name": "python3"
  },
  "language_info": {
   "codemirror_mode": {
    "name": "ipython",
    "version": 2
   },
   "file_extension": ".py",
   "mimetype": "text/x-python",
   "name": "python",
   "nbconvert_exporter": "python",
   "pygments_lexer": "ipython2",
   "version": "2.7.6"
  }
 },
 "nbformat": 4,
 "nbformat_minor": 5
}
