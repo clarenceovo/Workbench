{
 "cells": [
  {
   "cell_type": "code",
   "id": "initial_id",
   "metadata": {
    "collapsed": true,
    "ExecuteTime": {
     "end_time": "2025-07-02T14:30:08.508815Z",
     "start_time": "2025-07-02T14:30:08.128937Z"
    }
   },
   "source": [
    "from Workbench.CryptoTrader.HTXCryptoTrader import HTXCryptoTrader\n",
    "\n",
    "trader = HTXCryptoTrader(start_ws=False)"
   ],
   "outputs": [],
   "execution_count": 11
  },
  {
   "metadata": {
    "ExecuteTime": {
     "end_time": "2025-07-02T14:30:08.869985Z",
     "start_time": "2025-07-02T14:30:08.515041Z"
    }
   },
   "cell_type": "code",
   "source": "account = trader.get_future_account_info()",
   "id": "e775d8271f33564e",
   "outputs": [],
   "execution_count": 12
  },
  {
   "metadata": {
    "ExecuteTime": {
     "end_time": "2025-07-02T14:30:09.270978Z",
     "start_time": "2025-07-02T14:30:08.892299Z"
    }
   },
   "cell_type": "code",
   "source": "trader.get_future_account_info()['contract_detail']",
   "id": "59f17e4b7e4a77d1",
   "outputs": [
    {
     "data": {
      "text/plain": [
       "0    [{'symbol': 'SATS', 'contract_code': 'SATS-USD...\n",
       "Name: contract_detail, dtype: object"
      ]
     },
     "execution_count": 13,
     "metadata": {},
     "output_type": "execute_result"
    }
   ],
   "execution_count": 13
  },
  {
   "metadata": {
    "ExecuteTime": {
     "end_time": "2025-07-02T14:30:09.795789Z",
     "start_time": "2025-07-02T14:30:09.284413Z"
    }
   },
   "cell_type": "code",
   "source": "position = list(trader.get_future_account_info()['contract_detail'].values[0])",
   "id": "1fe739b4a2a2bae3",
   "outputs": [],
   "execution_count": 14
  },
  {
   "metadata": {
    "ExecuteTime": {
     "end_time": "2025-07-02T14:30:10.653351Z",
     "start_time": "2025-07-02T14:30:10.313856Z"
    }
   },
   "cell_type": "code",
   "source": [
    "ret = trader.get_active_position_symbol()\n",
    "print(ret)\n"
   ],
   "id": "f35bddf001d186b6",
   "outputs": [
    {
     "name": "stdout",
     "output_type": "stream",
     "text": [
      "['SOPHUSDT', 'AAVEUSDT', 'WIFUSDT']\n"
     ]
    }
   ],
   "execution_count": 15
  }
 ],
 "metadata": {
  "kernelspec": {
   "display_name": "Python 3",
   "language": "python",
   "name": "python3"
  },
  "language_info": {
   "codemirror_mode": {
    "name": "ipython",
    "version": 2
   },
   "file_extension": ".py",
   "mimetype": "text/x-python",
   "name": "python",
   "nbconvert_exporter": "python",
   "pygments_lexer": "ipython2",
   "version": "2.7.6"
  }
 },
 "nbformat": 4,
 "nbformat_minor": 5
}
