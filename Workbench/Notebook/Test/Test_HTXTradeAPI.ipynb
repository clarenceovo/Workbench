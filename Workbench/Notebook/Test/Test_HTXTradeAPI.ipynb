{
 "cells": [
  {
   "cell_type": "code",
   "id": "initial_id",
   "metadata": {
    "collapsed": true,
    "ExecuteTime": {
     "end_time": "2025-07-12T13:46:24.194765Z",
     "start_time": "2025-07-12T13:46:24.028297Z"
    }
   },
   "source": [
    "from Workbench.CryptoTrader.HTXCryptoTrader import HTXCryptoTrader\n",
    "\n",
    "trader = HTXCryptoTrader(start_ws=False)"
   ],
   "outputs": [],
   "execution_count": 109
  },
  {
   "metadata": {
    "ExecuteTime": {
     "end_time": "2025-07-12T13:46:24.353928Z",
     "start_time": "2025-07-12T13:46:24.203885Z"
    }
   },
   "cell_type": "code",
   "source": "account = trader.get_future_account_info()",
   "id": "e775d8271f33564e",
   "outputs": [],
   "execution_count": 110
  },
  {
   "metadata": {
    "ExecuteTime": {
     "end_time": "2025-07-12T13:46:24.542684Z",
     "start_time": "2025-07-12T13:46:24.378454Z"
    }
   },
   "cell_type": "code",
   "source": "trader.get_future_account_info()['contract_detail']",
   "id": "59f17e4b7e4a77d1",
   "outputs": [
    {
     "data": {
      "text/plain": [
       "0    [{'symbol': 'SATS', 'contract_code': 'SATS-USD...\n",
       "Name: contract_detail, dtype: object"
      ]
     },
     "execution_count": 111,
     "metadata": {},
     "output_type": "execute_result"
    }
   ],
   "execution_count": 111
  },
  {
   "metadata": {
    "ExecuteTime": {
     "end_time": "2025-07-12T13:46:24.722063Z",
     "start_time": "2025-07-12T13:46:24.564791Z"
    }
   },
   "cell_type": "code",
   "source": "position = list(trader.get_future_account_info()['contract_detail'].values[0])",
   "id": "1fe739b4a2a2bae3",
   "outputs": [],
   "execution_count": 112
  },
  {
   "metadata": {
    "ExecuteTime": {
     "end_time": "2025-07-12T13:46:24.762689Z",
     "start_time": "2025-07-12T13:46:24.759264Z"
    }
   },
   "cell_type": "code",
   "source": [
    "for pos in position:\n",
    "    if pos['margin_position']:\n",
    "        print(pos)"
   ],
   "id": "de6a7262b75f59d1",
   "outputs": [
    {
     "name": "stdout",
     "output_type": "stream",
     "text": [
      "{'symbol': 'SOPH', 'contract_code': 'SOPH-USDT', 'margin_position': 10.8384, 'margin_frozen': 0.0, 'margin_available': 156.57327027812747, 'profit_unreal': 10.245, 'liquidation_price': None, 'lever_rate': 10, 'adjust_factor': 0.2, 'contract_type': 'swap', 'pair': 'SOPH-USDT', 'business_type': 'swap', 'trade_partition': 'USDT', 'cross_max_available': 0}\n",
      "{'symbol': 'M', 'contract_code': 'M-USDT', 'margin_position': 6.314, 'margin_frozen': 0.0, 'margin_available': 156.57327027812747, 'profit_unreal': -1.06, 'liquidation_price': None, 'lever_rate': 10, 'adjust_factor': 0.2, 'contract_type': 'swap', 'pair': 'M-USDT', 'business_type': 'swap', 'trade_partition': 'USDT', 'cross_max_available': 0}\n"
     ]
    }
   ],
   "execution_count": 113
  },
  {
   "metadata": {
    "ExecuteTime": {
     "end_time": "2025-07-12T13:46:24.946697Z",
     "start_time": "2025-07-12T13:46:24.799837Z"
    }
   },
   "cell_type": "code",
   "source": [
    "ret = trader.get_active_position_symbol()\n",
    "print(ret)\n"
   ],
   "id": "f35bddf001d186b6",
   "outputs": [
    {
     "name": "stdout",
     "output_type": "stream",
     "text": [
      "['SOPHUSDT', 'MUSDT']\n"
     ]
    }
   ],
   "execution_count": 114
  }
 ],
 "metadata": {
  "kernelspec": {
   "display_name": "Python 3",
   "language": "python",
   "name": "python3"
  },
  "language_info": {
   "codemirror_mode": {
    "name": "ipython",
    "version": 2
   },
   "file_extension": ".py",
   "mimetype": "text/x-python",
   "name": "python",
   "nbconvert_exporter": "python",
   "pygments_lexer": "ipython2",
   "version": "2.7.6"
  }
 },
 "nbformat": 4,
 "nbformat_minor": 5
}
