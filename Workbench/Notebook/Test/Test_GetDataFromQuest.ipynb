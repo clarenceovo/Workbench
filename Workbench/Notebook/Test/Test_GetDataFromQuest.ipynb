{
 "cells": [
  {
   "cell_type": "code",
   "id": "initial_id",
   "metadata": {
    "collapsed": true,
    "ExecuteTime": {
     "end_time": "2025-06-08T03:43:49.902336Z",
     "start_time": "2025-06-08T03:43:49.895363Z"
    }
   },
   "source": [
    "from Workbench.transport.QuestClient import QuestDBClient\n",
    "\n",
    "client = QuestDBClient(host=\"34.97.186.69\",\n",
    "                       port=8812,\n",
    "                       read_only=True)\n",
    "\n"
   ],
   "outputs": [],
   "execution_count": 2
  },
  {
   "metadata": {
    "ExecuteTime": {
     "end_time": "2025-06-08T03:45:06.231210Z",
     "start_time": "2025-06-08T03:44:47.973993Z"
    }
   },
   "cell_type": "code",
   "source": [
    "query =\"\"\"SELECT * FROM open_interest where exchange = 'Hyperliquid'\n",
    "order by timestamp desc;\n",
    "\"\"\"\n",
    "result = client.execute_query(query)\n",
    "#get\n",
    "print(result)"
   ],
   "id": "7b23d6999ae21f32",
   "outputs": [
    {
     "name": "stdout",
     "output_type": "stream",
     "text": [
      "                                symbol     exchange  open_interest\n",
      "timestamp                                                         \n",
      "2025-06-08 03:44:00.473847        SOPH  Hyperliquid   8.381210e+07\n",
      "2025-06-08 03:44:00.473844        NXPC  Hyperliquid   4.610030e+06\n",
      "2025-06-08 03:44:00.473840  LAUNCHCOIN  Hyperliquid   2.133349e+08\n",
      "2025-06-08 03:44:00.473837        DOOD  Hyperliquid   1.955928e+08\n",
      "2025-06-08 03:44:00.473834        INIT  Hyperliquid   4.062916e+07\n",
      "...                                ...          ...            ...\n",
      "2025-06-02 13:55:38.418237        DYDX  Hyperliquid   2.156514e+06\n",
      "2025-06-02 13:55:38.418236       MATIC  Hyperliquid   0.000000e+00\n",
      "2025-06-02 13:55:38.418234        ATOM  Hyperliquid   1.034373e+06\n",
      "2025-06-02 13:55:38.418230         ETH  Hyperliquid   5.409711e+05\n",
      "2025-06-02 13:55:38.418212         BTC  Hyperliquid   2.753054e+04\n",
      "\n",
      "[1591920 rows x 3 columns]\n"
     ]
    }
   ],
   "execution_count": 4
  },
  {
   "metadata": {
    "ExecuteTime": {
     "end_time": "2025-06-08T03:50:31.921819Z",
     "start_time": "2025-06-08T03:50:31.168608Z"
    }
   },
   "cell_type": "code",
   "source": [
    "df = result.copy(deep=True)\n",
    "target = df.query(\"symbol == 'BTC'\")"
   ],
   "id": "c42bdb1e47b17312",
   "outputs": [],
   "execution_count": 7
  },
  {
   "metadata": {
    "ExecuteTime": {
     "end_time": "2025-06-08T03:50:55.335484Z",
     "start_time": "2025-06-08T03:50:55.085258Z"
    }
   },
   "cell_type": "code",
   "source": [
    "#get the unique values of the symbol column\n",
    "unique_symbols = df['symbol'].unique()"
   ],
   "id": "b0ac9c1d23a77bf6",
   "outputs": [],
   "execution_count": 8
  }
 ],
 "metadata": {
  "kernelspec": {
   "display_name": "Python 3",
   "language": "python",
   "name": "python3"
  },
  "language_info": {
   "codemirror_mode": {
    "name": "ipython",
    "version": 2
   },
   "file_extension": ".py",
   "mimetype": "text/x-python",
   "name": "python",
   "nbconvert_exporter": "python",
   "pygments_lexer": "ipython2",
   "version": "2.7.6"
  }
 },
 "nbformat": 4,
 "nbformat_minor": 5
}
