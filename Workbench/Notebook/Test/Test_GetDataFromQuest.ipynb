{
 "cells": [
  {
   "cell_type": "code",
   "id": "initial_id",
   "metadata": {
    "collapsed": true,
    "ExecuteTime": {
     "end_time": "2025-05-26T16:20:39.305312Z",
     "start_time": "2025-05-26T16:20:37.470458Z"
    }
   },
   "source": [
    "from Workbench.transport.QuestClient import QuestDBClient\n",
    "\n",
    "client = QuestDBClient(host=\"34.97.186.69\",\n",
    "                       port=8812,\n",
    "                       read_only=True)\n",
    "\n",
    "query =\"\"\"select * from top_of_book\n",
    "where exchange = 'Binance' and symbol = 'SOLUSDT'\n",
    "order by timestamp desc\n",
    "limit 10000;\n",
    "\"\"\"\n",
    "result = client.execute_query(query)\n",
    "\n",
    "print(result)"
   ],
   "outputs": [
    {
     "name": "stdout",
     "output_type": "stream",
     "text": [
      "                          symbol exchange  bid_price  bid_qty  ask_price  \\\n",
      "timestamp                                                                  \n",
      "2025-05-26 16:20:37.899  SOLUSDT  Binance     176.10   575.66     176.11   \n",
      "2025-05-26 16:20:37.881  SOLUSDT  Binance     176.10   639.92     176.11   \n",
      "2025-05-26 16:20:37.866  SOLUSDT  Binance     176.10   830.55     176.11   \n",
      "2025-05-26 16:20:37.847  SOLUSDT  Binance     176.10  1088.49     176.11   \n",
      "2025-05-26 16:20:37.836  SOLUSDT  Binance     176.10   880.52     176.11   \n",
      "...                          ...      ...        ...      ...        ...   \n",
      "2025-05-26 16:16:49.675  SOLUSDT  Binance     176.87   485.71     176.88   \n",
      "2025-05-26 16:16:49.665  SOLUSDT  Binance     176.87   485.71     176.88   \n",
      "2025-05-26 16:16:49.648  SOLUSDT  Binance     176.87   485.71     176.88   \n",
      "2025-05-26 16:16:49.605  SOLUSDT  Binance     176.87   485.68     176.88   \n",
      "2025-05-26 16:16:49.596  SOLUSDT  Binance     176.87   391.23     176.88   \n",
      "\n",
      "                         ask_qty  \n",
      "timestamp                         \n",
      "2025-05-26 16:20:37.899   287.25  \n",
      "2025-05-26 16:20:37.881   269.55  \n",
      "2025-05-26 16:20:37.866   174.62  \n",
      "2025-05-26 16:20:37.847   174.52  \n",
      "2025-05-26 16:20:37.836    82.43  \n",
      "...                          ...  \n",
      "2025-05-26 16:16:49.675   261.38  \n",
      "2025-05-26 16:16:49.665   305.11  \n",
      "2025-05-26 16:16:49.648   310.08  \n",
      "2025-05-26 16:16:49.605   310.08  \n",
      "2025-05-26 16:16:49.596   400.72  \n",
      "\n",
      "[10000 rows x 6 columns]\n"
     ]
    }
   ],
   "execution_count": 4
  },
  {
   "metadata": {
    "ExecuteTime": {
     "end_time": "2025-05-26T16:20:37.330879Z",
     "start_time": "2025-05-26T16:20:35.411340Z"
    }
   },
   "cell_type": "code",
   "source": [
    "##do\n",
    "\n",
    "query_htx =\"\"\"select * from top_of_book\n",
    "where exchange = 'HTX' and symbol = 'SOLUSDT'\n",
    "order by timestamp desc\n",
    "limit 10000;\n",
    "\"\"\"\n",
    "\n",
    "result_htx = client.execute_query(query)\n",
    "print(result_htx)\n"
   ],
   "id": "7b23d6999ae21f32",
   "outputs": [
    {
     "name": "stdout",
     "output_type": "stream",
     "text": [
      "                          symbol exchange  bid_price  bid_qty  ask_price  \\\n",
      "timestamp                                                                  \n",
      "2025-05-26 16:20:35.724  SOLUSDT  Binance     176.06   871.00     176.07   \n",
      "2025-05-26 16:20:35.717  SOLUSDT  Binance     176.06   858.10     176.07   \n",
      "2025-05-26 16:20:35.695  SOLUSDT  Binance     176.06   856.07     176.07   \n",
      "2025-05-26 16:20:35.658  SOLUSDT  Binance     176.06   759.26     176.07   \n",
      "2025-05-26 16:20:35.644  SOLUSDT  Binance     176.06   521.21     176.07   \n",
      "...                          ...      ...        ...      ...        ...   \n",
      "2025-05-26 16:16:46.808  SOLUSDT  Binance     176.87   619.60     176.88   \n",
      "2025-05-26 16:16:46.791  SOLUSDT  Binance     176.87   967.42     176.88   \n",
      "2025-05-26 16:16:46.784  SOLUSDT  Binance     176.87  1000.73     176.88   \n",
      "2025-05-26 16:16:46.775  SOLUSDT  Binance     176.87  1189.97     176.88   \n",
      "2025-05-26 16:16:46.762  SOLUSDT  Binance     176.87  1366.83     176.88   \n",
      "\n",
      "                         ask_qty  \n",
      "timestamp                         \n",
      "2025-05-26 16:20:35.724    26.99  \n",
      "2025-05-26 16:20:35.717    26.99  \n",
      "2025-05-26 16:20:35.695    75.99  \n",
      "2025-05-26 16:20:35.658    71.99  \n",
      "2025-05-26 16:20:35.644   130.60  \n",
      "...                          ...  \n",
      "2025-05-26 16:16:46.808   220.20  \n",
      "2025-05-26 16:16:46.791   242.40  \n",
      "2025-05-26 16:16:46.784   300.74  \n",
      "2025-05-26 16:16:46.775   300.74  \n",
      "2025-05-26 16:16:46.762   222.43  \n",
      "\n",
      "[10000 rows x 6 columns]\n"
     ]
    }
   ],
   "execution_count": 3
  }
 ],
 "metadata": {
  "kernelspec": {
   "display_name": "Python 3",
   "language": "python",
   "name": "python3"
  },
  "language_info": {
   "codemirror_mode": {
    "name": "ipython",
    "version": 2
   },
   "file_extension": ".py",
   "mimetype": "text/x-python",
   "name": "python",
   "nbconvert_exporter": "python",
   "pygments_lexer": "ipython2",
   "version": "2.7.6"
  }
 },
 "nbformat": 4,
 "nbformat_minor": 5
}
