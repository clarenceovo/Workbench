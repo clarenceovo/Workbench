{
 "cells": [
  {
   "cell_type": "code",
   "id": "initial_id",
   "metadata": {
    "collapsed": true,
    "ExecuteTime": {
     "end_time": "2025-06-04T00:48:17.822162Z",
     "start_time": "2025-06-04T00:48:17.557616Z"
    }
   },
   "source": [
    "from Workbench.CryptoDataConnector.BinanceDataCollector import BinanceDataCollector\n",
    "\n",
    "client = BinanceDataCollector()\n",
    "funding = client.get_funding(\"MEUSDT\",limit=5)\n",
    "print(funding)"
   ],
   "outputs": [
    {
     "name": "stdout",
     "output_type": "stream",
     "text": [
      "[{'symbol': 'MEUSDT', 'fundingTime': 1748937600000, 'fundingRate': '-0.00015544', 'markPrice': '0.84800000'}, {'symbol': 'MEUSDT', 'fundingTime': 1748952000000, 'fundingRate': '-0.00011266', 'markPrice': '0.85600000'}, {'symbol': 'MEUSDT', 'fundingTime': 1748966400001, 'fundingRate': '-0.00028916', 'markPrice': '0.86200000'}, {'symbol': 'MEUSDT', 'fundingTime': 1748980800000, 'fundingRate': '-0.01049518', 'markPrice': '1.02500000'}, {'symbol': 'MEUSDT', 'fundingTime': 1748995200000, 'fundingRate': '-0.00306122', 'markPrice': '0.99472813'}]\n"
     ]
    }
   ],
   "execution_count": 5
  },
  {
   "metadata": {
    "ExecuteTime": {
     "end_time": "2025-06-04T00:49:49.889675Z",
     "start_time": "2025-06-04T00:49:49.884200Z"
    }
   },
   "cell_type": "code",
   "source": [
    "funding_rate = -0.00015544  # Example funding rate\n",
    "annualized_rate = funding_rate * 1095\n",
    "print(f\"Annualized Rate: {annualized_rate:.6f}\")"
   ],
   "id": "35615e401a6332f3",
   "outputs": [
    {
     "name": "stdout",
     "output_type": "stream",
     "text": [
      "Annualized Rate: -0.170207\n"
     ]
    }
   ],
   "execution_count": 6
  }
 ],
 "metadata": {
  "kernelspec": {
   "display_name": "Python 3",
   "language": "python",
   "name": "python3"
  },
  "language_info": {
   "codemirror_mode": {
    "name": "ipython",
    "version": 2
   },
   "file_extension": ".py",
   "mimetype": "text/x-python",
   "name": "python",
   "nbconvert_exporter": "python",
   "pygments_lexer": "ipython2",
   "version": "2.7.6"
  }
 },
 "nbformat": 4,
 "nbformat_minor": 5
}
