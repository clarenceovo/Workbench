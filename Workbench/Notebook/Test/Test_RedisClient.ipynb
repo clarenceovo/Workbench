{
 "cells": [
  {
   "cell_type": "code",
   "id": "initial_id",
   "metadata": {
    "collapsed": true,
    "ExecuteTime": {
     "end_time": "2025-05-27T13:56:27.016723Z",
     "start_time": "2025-05-27T13:56:26.341935Z"
    }
   },
   "source": [
    "from Workbench.config.ConnectionConstant import REDIS_HOST , REDIS_PORT, REDIS_DB\n",
    "from Workbench.transport.redis_client import RedisClient\n",
    "\n",
    "client = RedisClient(host=REDIS_HOST, port=REDIS_PORT, db=REDIS_DB,password=\"\")\n",
    "\n",
    "# Test connection\n",
    "if client.client.ping():\n",
    "    print(\"Connected to Redis server successfully!\")\n",
    "else:\n",
    "    print(\"Failed to connect to Redis server.\")\n"
   ],
   "outputs": [
    {
     "name": "stdout",
     "output_type": "stream",
     "text": [
      "Connected to Redis server successfully!\n"
     ]
    }
   ],
   "execution_count": 5
  }
 ],
 "metadata": {
  "kernelspec": {
   "display_name": "Python 3",
   "language": "python",
   "name": "python3"
  },
  "language_info": {
   "codemirror_mode": {
    "name": "ipython",
    "version": 2
   },
   "file_extension": ".py",
   "mimetype": "text/x-python",
   "name": "python",
   "nbconvert_exporter": "python",
   "pygments_lexer": "ipython2",
   "version": "2.7.6"
  }
 },
 "nbformat": 4,
 "nbformat_minor": 5
}
