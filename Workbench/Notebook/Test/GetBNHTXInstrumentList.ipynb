{
 "cells": [
  {
   "cell_type": "code",
   "id": "initial_id",
   "metadata": {
    "collapsed": true,
    "ExecuteTime": {
     "end_time": "2025-05-28T16:09:39.889849Z",
     "start_time": "2025-05-28T16:09:38.554577Z"
    }
   },
   "source": [
    "from Workbench.CryptoDataConnector.BinanceDataCollector import BinanceDataCollector\n",
    "from Workbench.CryptoDataConnector.HTXDataCollector import HTXDataCollector\n",
    "\n",
    "htx_instrument_list = HTXDataCollector().get_contract_details()\n",
    "binance_instrument_list = BinanceDataCollector().get_contract_details()\n",
    "\n",
    "htx_code = htx_instrument_list['contract_code']\n",
    "htx_code = [x.replace('-',\"\") for x in htx_code[htx_code.str.contains(\"USDT\")].values]\n",
    "binance_instrument_list.query(\"contractType == 'PERPETUAL'\")\n",
    "bn_code = binance_instrument_list['symbol'].values\n",
    "interset = set(htx_code).intersection(set(bn_code))\n",
    "print(interset)\n",
    "print(len(interset))"
   ],
   "outputs": [
    {
     "name": "stderr",
     "output_type": "stream",
     "text": [
      "/Users/clarenceho/Library/Python/3.9/lib/python/site-packages/urllib3/__init__.py:35: NotOpenSSLWarning: urllib3 v2 only supports OpenSSL 1.1.1+, currently the 'ssl' module is compiled with 'LibreSSL 2.8.3'. See: https://github.com/urllib3/urllib3/issues/3020\n",
      "  warnings.warn(\n"
     ]
    },
    {
     "name": "stdout",
     "output_type": "stream",
     "text": [
      "{'GOATUSDT', 'SOLUSDT', 'SLERFUSDT', 'SOPHUSDT', 'PYTHUSDT', 'AEVOUSDT', 'XLMUSDT', 'JELLYJELLYUSDT', 'HMSTRUSDT', 'ACTUSDT', 'TONUSDT', 'OMUSDT', 'MOVEUSDT', 'VIRTUALUSDT', 'BTCUSDT', 'GMTUSDT', 'TRUMPUSDT', 'CYBERUSDT', 'ETHFIUSDT', 'ARBUSDT', 'INITUSDT', 'LPTUSDT', 'PARTIUSDT', 'CHILLGUYUSDT', 'BABYUSDT', 'DOTUSDT', 'VTHOUSDT', 'KSMUSDT', 'VANAUSDT', 'PEOPLEUSDT', 'SUSDT', 'CAKEUSDT', 'MEUSDT', 'STRKUSDT', 'KAITOUSDT', 'PLUMEUSDT', 'HYPERUSDT', 'USTCUSDT', 'BBUSDT', 'ALCHUSDT', 'BUSDT', 'TURBOUSDT', 'TUTUSDT', 'ORDIUSDT', 'JUPUSDT', 'STXUSDT', 'APEUSDT', 'PENGUUSDT', 'CATIUSDT', 'AAVEUSDT', 'DEEPUSDT', 'DOGSUSDT', 'TAOUSDT', 'HBARUSDT', 'PIPPINUSDT', 'NEARUSDT', 'MANAUSDT', 'NEIROETHUSDT', 'SAGAUSDT', 'ZROUSDT', 'UXLINKUSDT', 'BCHUSDT', 'AIUSDT', 'ARCUSDT', 'CHZUSDT', 'KERNELUSDT', 'BLURUSDT', 'SHELLUSDT', 'FORMUSDT', 'LDOUSDT', 'TSTUSDT', 'GRTUSDT', 'FILUSDT', 'EIGENUSDT', 'TNSRUSDT', 'DYDXUSDT', 'POPCATUSDT', 'MAVIAUSDT', 'PENDLEUSDT', 'ATHUSDT', 'LAYERUSDT', 'SNXUSDT', 'MAGICUSDT', 'AI16ZUSDT', 'PNUTUSDT', 'BMTUSDT', 'BIOUSDT', 'ADAUSDT', 'IOUSDT', 'KASUSDT', 'SONICUSDT', 'DOGEUSDT', 'CFXUSDT', 'FARTCOINUSDT', 'HAEDALUSDT', 'POLUSDT', 'JASMYUSDT', 'JTOUSDT', 'LTCUSDT', 'BNBUSDT', 'WLDUSDT', 'FTTUSDT', 'DEGENUSDT', 'USUALUSDT', 'CKBUSDT', 'XMRUSDT', '1INCHUSDT', 'MUBARAKUSDT', 'INJUSDT', 'ENAUSDT', 'SUSHIUSDT', 'NXPCUSDT', 'XRPUSDT', 'BIGTIMEUSDT', 'SWARMSUSDT', 'IMXUSDT', 'KAVAUSDT', 'APTUSDT', 'YGGUSDT', 'WAVESUSDT', 'MKRUSDT', 'BOMEUSDT', 'ICPUSDT', 'OPUSDT', 'SSVUSDT', 'WIFUSDT', 'CRVUSDT', 'MYROUSDT', 'VOXELUSDT', 'BERAUSDT', 'EPTUSDT', 'CETUSUSDT', 'MOODENGUSDT', 'AXSUSDT', 'BSVUSDT', 'ATOMUSDT', 'MASKUSDT', 'ALGOUSDT', 'TRXUSDT', 'AVAXUSDT', 'ETHUSDT', 'SEIUSDT', 'WUSDT', 'AUSDT', 'COMPUSDT', 'ZETAUSDT', 'ETCUSDT', 'OBOLUSDT', 'STEEMUSDT', 'LINKUSDT', 'NOTUSDT', 'TIAUSDT', 'VINEUSDT', 'PIXELUSDT', 'COOKIEUSDT', 'ZEREBROUSDT', 'KOMAUSDT', 'YFIUSDT', 'MEMEUSDT', 'SUNUSDT', 'ZKUSDT', 'STOUSDT', 'SOONUSDT', 'GRASSUSDT', 'WOOUSDT', 'MEWUSDT', 'SOLVUSDT', 'IPUSDT', 'GALAUSDT', 'PROMPTUSDT', 'ENSUSDT', 'TRBUSDT', 'REDUSDT', 'MEMEFIUSDT', 'MELANIAUSDT', 'SYRUPUSDT', 'SIGNUSDT', 'JSTUSDT', 'HUMAUSDT', 'ONDOUSDT', 'SXTUSDT', 'UNIUSDT', 'AIXBTUSDT', 'VVVUSDT', 'DOODUSDT', 'WCTUSDT', 'SUIUSDT', 'NILUSDT', 'THETAUSDT', 'SKYAIUSDT', 'GUNUSDT', 'SANDUSDT', 'AERGOUSDT'}\n",
      "193\n"
     ]
    }
   ],
   "execution_count": 1
  },
  {
   "metadata": {
    "ExecuteTime": {
     "end_time": "2025-05-28T16:11:16.738468Z",
     "start_time": "2025-05-28T16:09:40.093191Z"
    }
   },
   "cell_type": "code",
   "source": [
    "from Workbench.config.ConnectionConstant import REDIS_HOST , REDIS_PORT, REDIS_DB , REDIS_PASSWORD\n",
    "from Workbench.transport.redis_client import RedisClient\n",
    "\n",
    "list_key = \"MktData:{0}:InstrumentList\"\n",
    "\n",
    "client = RedisClient(host=REDIS_HOST, port=REDIS_PORT, db=REDIS_DB,password=REDIS_PASSWORD)\n",
    "for code in htx_code:\n",
    "    client.client.lpush(list_key.format(\"HTX\"), code)\n",
    "\n",
    "for code in bn_code:\n",
    "    client.client.lpush(list_key.format(\"Binance\"), code)\n"
   ],
   "id": "6287123c62a2efce",
   "outputs": [],
   "execution_count": 2
  }
 ],
 "metadata": {
  "kernelspec": {
   "display_name": "Python 3",
   "language": "python",
   "name": "python3"
  },
  "language_info": {
   "codemirror_mode": {
    "name": "ipython",
    "version": 2
   },
   "file_extension": ".py",
   "mimetype": "text/x-python",
   "name": "python",
   "nbconvert_exporter": "python",
   "pygments_lexer": "ipython2",
   "version": "2.7.6"
  }
 },
 "nbformat": 4,
 "nbformat_minor": 5
}
