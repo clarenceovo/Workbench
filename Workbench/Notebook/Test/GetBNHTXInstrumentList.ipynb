{
 "cells": [
  {
   "cell_type": "code",
   "id": "initial_id",
   "metadata": {
    "collapsed": true,
    "ExecuteTime": {
     "end_time": "2025-06-10T15:56:36.223453Z",
     "start_time": "2025-06-10T15:56:33.764041Z"
    }
   },
   "source": [
    "from Workbench.CryptoDataConnector.BinanceDataCollector import BinanceDataCollector\n",
    "from Workbench.CryptoDataConnector.HTXDataCollector import HTXDataCollector\n",
    "\n",
    "htx_instrument_list = HTXDataCollector().get_contract_details()\n",
    "binance_instrument_list = BinanceDataCollector().get_contract_details()\n",
    "\n",
    "htx_code = htx_instrument_list['contract_code']\n",
    "htx_code = [x.replace('-',\"\") for x in htx_code[htx_code.str.contains(\"USDT\")].values]\n",
    "binance_instrument_list.query(\"contractType == 'PERPETUAL'\")\n",
    "bn_code = binance_instrument_list['symbol'].values\n",
    "interset = set(htx_code).intersection(set(bn_code))\n",
    "print(interset)\n",
    "print(len(interset))"
   ],
   "outputs": [
    {
     "name": "stdout",
     "output_type": "stream",
     "text": [
      "{'SUSHIUSDT', 'WUSDT', 'SYRUPUSDT', 'PIXELUSDT', 'GOATUSDT', 'POLUSDT', 'IMXUSDT', 'COOKIEUSDT', 'CKBUSDT', 'AI16ZUSDT', 'HYPERUSDT', 'TAOUSDT', 'STOUSDT', 'BOMEUSDT', 'BIOUSDT', 'SUIUSDT', 'SUSDT', 'VIRTUALUSDT', 'XRPUSDT', 'BABYUSDT', 'ETCUSDT', 'UNIUSDT', 'SONICUSDT', 'MERLUSDT', 'PLUMEUSDT', 'LTCUSDT', 'HUMAUSDT', 'MYROUSDT', 'ICPUSDT', 'GALAUSDT', 'JASMYUSDT', 'BMTUSDT', 'BERAUSDT', 'RVNUSDT', 'MEWUSDT', 'NEARUSDT', 'CHZUSDT', 'SUNUSDT', 'BCHUSDT', 'ALCHUSDT', 'APTUSDT', 'DOTUSDT', 'PENGUUSDT', 'DEEPUSDT', 'CATIUSDT', 'TRXUSDT', 'TRUMPUSDT', 'ZETAUSDT', 'SNXUSDT', 'TIAUSDT', 'MEMEUSDT', 'USUALUSDT', 'ANIMEUSDT', 'VINEUSDT', 'MEUSDT', 'HYPEUSDT', 'FARTCOINUSDT', 'USTCUSDT', 'MEMEFIUSDT', 'JSTUSDT', 'MAVIAUSDT', 'LPTUSDT', 'MUBARAKUSDT', '1INCHUSDT', 'GUNUSDT', 'YGGUSDT', 'XMRUSDT', 'WAVESUSDT', 'JTOUSDT', 'RESOLVUSDT', 'ARCUSDT', 'INJUSDT', 'WLDUSDT', 'VANAUSDT', 'MOVEUSDT', 'OMUSDT', 'SANDUSDT', 'BDXNUSDT', 'PENDLEUSDT', 'OBOLUSDT', 'ATOMUSDT', 'THETAUSDT', 'TUTUSDT', 'NXPCUSDT', 'BIGTIMEUSDT', 'NEIROETHUSDT', 'HAEDALUSDT', 'CYBERUSDT', 'YFIUSDT', 'HBARUSDT', 'WIFUSDT', 'SSVUSDT', 'AIUSDT', 'SOONUSDT', 'SIGNUSDT', 'WOOUSDT', 'KASUSDT', 'VOXELUSDT', 'FTTUSDT', 'PNUTUSDT', 'PARTIUSDT', 'TNSRUSDT', 'ACTUSDT', 'UXLINKUSDT', 'ZKUSDT', 'APEUSDT', 'BIDUSDT', 'FORMUSDT', 'ETHFIUSDT', 'DYDXUSDT', 'TONUSDT', 'ADAUSDT', 'GRTUSDT', 'GRASSUSDT', 'SPXUSDT', 'SOLVUSDT', 'NILUSDT', 'ZROUSDT', 'MANAUSDT', 'KSMUSDT', 'EIGENUSDT', 'REDUSDT', 'ONDOUSDT', 'JUPUSDT', 'CFXUSDT', 'AIXBTUSDT', 'MASKUSDT', 'MAGICUSDT', 'AERGOUSDT', 'MOODENGUSDT', 'CETUSUSDT', 'OPUSDT', 'SKATEUSDT', 'LINKUSDT', 'KERNELUSDT', 'TRBUSDT', 'KAVAUSDT', 'MELANIAUSDT', 'BUSDT', 'XLMUSDT', 'ORDIUSDT', 'CAKEUSDT', 'EPTUSDT', 'LAYERUSDT', 'PEOPLEUSDT', 'LDOUSDT', 'KAITOUSDT', 'BSVUSDT', 'NOTUSDT', 'SEIUSDT', 'ATHUSDT', 'VVVUSDT', 'STXUSDT', 'DOODUSDT', 'AUSDT', 'ETHUSDT', 'TSTUSDT', 'SOLUSDT', 'POPCATUSDT', 'PROMPTUSDT', 'AVAXUSDT', 'SWARMSUSDT', 'ARBUSDT', 'STEEMUSDT', 'DOGSUSDT', 'DEGENUSDT', 'SOPHUSDT', 'JELLYJELLYUSDT', 'CHILLGUYUSDT', 'STRKUSDT', 'PYTHUSDT', 'SLERFUSDT', 'KOMAUSDT', 'PIPPINUSDT', 'AEVOUSDT', 'HOMEUSDT', 'IOUSDT', 'GMTUSDT', 'SAGAUSDT', 'SKYAIUSDT', 'SHELLUSDT', 'AXSUSDT', 'MKRUSDT', 'INITUSDT', 'ENSUSDT', 'BNBUSDT', 'FILUSDT', 'TURBOUSDT', 'SXTUSDT', 'BLURUSDT', 'BBUSDT', 'BTCUSDT', 'ZEREBROUSDT', 'HMSTRUSDT', 'ENAUSDT', 'LAUSDT', 'IPUSDT', 'CRVUSDT', 'WCTUSDT', 'DOGEUSDT', 'COMPUSDT', 'ALGOUSDT', 'AAVEUSDT'}\n",
      "203\n"
     ]
    }
   ],
   "execution_count": 1
  },
  {
   "metadata": {
    "jupyter": {
     "is_executing": true
    },
    "ExecuteTime": {
     "start_time": "2025-06-10T15:56:36.569087Z"
    }
   },
   "cell_type": "code",
   "source": [
    "from Workbench.config.ConnectionConstant import REDIS_HOST , REDIS_PORT, REDIS_DB , REDIS_PASSWORD\n",
    "from Workbench.transport.redis_client import RedisClient\n",
    "\n",
    "list_key = \"MktData:{0}:InstrumentList\"\n",
    "\n",
    "client = RedisClient(host=REDIS_HOST, port=REDIS_PORT, db=REDIS_DB,password=REDIS_PASSWORD)\n",
    "for code in htx_code:\n",
    "    client.client.lpush(list_key.format(\"HTX\"), code)\n",
    "\n",
    "for code in bn_code:\n",
    "    client.client.lpush(list_key.format(\"Binance\"), code)\n"
   ],
   "id": "6287123c62a2efce",
   "outputs": [],
   "execution_count": null
  }
 ],
 "metadata": {
  "kernelspec": {
   "display_name": "Python 3",
   "language": "python",
   "name": "python3"
  },
  "language_info": {
   "codemirror_mode": {
    "name": "ipython",
    "version": 2
   },
   "file_extension": ".py",
   "mimetype": "text/x-python",
   "name": "python",
   "nbconvert_exporter": "python",
   "pygments_lexer": "ipython2",
   "version": "2.7.6"
  }
 },
 "nbformat": 4,
 "nbformat_minor": 5
}
