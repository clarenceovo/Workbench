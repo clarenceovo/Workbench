{
 "cells": [
  {
   "cell_type": "code",
   "id": "initial_id",
   "metadata": {
    "collapsed": true,
    "ExecuteTime": {
     "end_time": "2025-06-12T15:53:18.369447Z",
     "start_time": "2025-06-12T15:53:17.924236Z"
    }
   },
   "source": [
    "from Workbench.CryptoDataConnector.BinanceDataCollector import BinanceDataCollector\n",
    "from Workbench.CryptoDataConnector.HTXDataCollector import HTXDataCollector\n",
    "\n",
    "htx_instrument_list = HTXDataCollector().get_contract_details()\n",
    "binance_instrument_list = BinanceDataCollector().get_contract_details()\n",
    "\n",
    "htx_code = htx_instrument_list['contract_code']\n",
    "htx_code = [x.replace('-',\"\") for x in htx_code[htx_code.str.contains(\"USDT\")].values]\n",
    "binance_instrument_list.query(\"contractType == 'PERPETUAL'\")\n",
    "bn_code = binance_instrument_list['symbol'].values\n",
    "interset = set(htx_code).intersection(set(bn_code))\n",
    "print(interset)\n",
    "print(len(interset))"
   ],
   "outputs": [
    {
     "name": "stdout",
     "output_type": "stream",
     "text": [
      "{'VANAUSDT', 'BTCUSDT', 'USUALUSDT', 'MANAUSDT', 'ALGOUSDT', 'SUSDT', 'DOTUSDT', 'PENGUUSDT', 'AEVOUSDT', 'TAOUSDT', 'CYBERUSDT', 'MOODENGUSDT', 'HMSTRUSDT', 'STXUSDT', 'KOMAUSDT', 'PEOPLEUSDT', 'HYPERUSDT', 'BDXNUSDT', 'CETUSUSDT', 'KAITOUSDT', 'ZKUSDT', 'AUSDT', 'WAVESUSDT', 'USTCUSDT', 'MEMEUSDT', 'PNUTUSDT', 'STOUSDT', 'NOTUSDT', 'KASUSDT', 'TRUMPUSDT', 'SHELLUSDT', 'SYRUPUSDT', 'IPUSDT', 'IOUSDT', 'ETCUSDT', 'CFXUSDT', 'BSVUSDT', 'LDOUSDT', 'DEEPUSDT', 'FARTCOINUSDT', 'DEGENUSDT', 'XRPUSDT', 'UXLINKUSDT', 'GMTUSDT', 'XMRUSDT', 'BIOUSDT', 'SWARMSUSDT', 'LTCUSDT', 'KSMUSDT', 'BCHUSDT', 'BOMEUSDT', 'ORDIUSDT', 'NEARUSDT', 'DYDXUSDT', 'ICPUSDT', 'CRVUSDT', 'HBARUSDT', 'INITUSDT', 'SOONUSDT', 'AI16ZUSDT', 'FILUSDT', 'MKRUSDT', 'ENAUSDT', 'ZROUSDT', 'HAEDALUSDT', 'MELANIAUSDT', 'VIRTUALUSDT', 'STEEMUSDT', 'NXPCUSDT', 'RVNUSDT', 'AXLUSDT', 'BIDUSDT', 'YGGUSDT', 'SONICUSDT', 'STRKUSDT', 'BABYUSDT', 'ADAUSDT', 'SPXUSDT', 'TNSRUSDT', 'SXTUSDT', 'ANIMEUSDT', 'SLERFUSDT', 'CHILLGUYUSDT', 'BMTUSDT', 'MOVEUSDT', 'CAKEUSDT', 'GOATUSDT', 'PYTHUSDT', 'VOXELUSDT', 'SOPHUSDT', 'ENSUSDT', 'DOGSUSDT', 'AIUSDT', 'ACTUSDT', 'BUSDT', 'PENDLEUSDT', 'EIGENUSDT', 'ARBUSDT', 'NEIROETHUSDT', 'AERGOUSDT', 'TURBOUSDT', 'BIGTIMEUSDT', 'ONDOUSDT', 'BNBUSDT', 'POPCATUSDT', 'MAVIAUSDT', 'DOGEUSDT', 'TRBUSDT', 'POLUSDT', 'TONUSDT', 'ETHFIUSDT', 'JSTUSDT', 'JTOUSDT', 'PLUMEUSDT', 'NILUSDT', 'WLDUSDT', 'CKBUSDT', 'GALAUSDT', 'AIXBTUSDT', 'COMPUSDT', 'BLURUSDT', 'FTTUSDT', 'HOMEUSDT', 'FORMUSDT', 'BERAUSDT', 'PROMPTUSDT', 'DOODUSDT', 'VINEUSDT', 'ETHUSDT', 'MERLUSDT', 'MASKUSDT', 'ZEREBROUSDT', 'AVAXUSDT', 'SKATEUSDT', 'SNXUSDT', 'KAVAUSDT', 'WOOUSDT', 'MEUSDT', 'TIAUSDT', 'KERNELUSDT', 'AAVEUSDT', 'ATHUSDT', 'MAGICUSDT', 'SOLUSDT', 'WUSDT', 'OMUSDT', 'EPTUSDT', 'CHZUSDT', 'SANDUSDT', 'WIFUSDT', 'SUNUSDT', 'INJUSDT', 'GRASSUSDT', 'LINKUSDT', 'TRXUSDT', 'YFIUSDT', 'ATOMUSDT', 'GRTUSDT', 'VVVUSDT', 'MUBARAKUSDT', 'BBUSDT', 'XLMUSDT', 'ALCHUSDT', 'SSVUSDT', 'GUNUSDT', 'SUIUSDT', '1INCHUSDT', 'SKYAIUSDT', 'OPUSDT', 'JELLYJELLYUSDT', 'SAGAUSDT', 'MEWUSDT', 'HYPEUSDT', 'LAYERUSDT', 'COOKIEUSDT', 'REDUSDT', 'ZETAUSDT', 'TSTUSDT', 'APEUSDT', 'LPTUSDT', 'SOLVUSDT', 'OBOLUSDT', 'WCTUSDT', 'MYROUSDT', 'PARTIUSDT', 'JUPUSDT', 'THETAUSDT', 'CATIUSDT', 'LAUSDT', 'HUMAUSDT', 'AXSUSDT', 'PIXELUSDT', 'JASMYUSDT', 'RESOLVUSDT', 'PIPPINUSDT', 'ARCUSDT', 'IMXUSDT', 'MEMEFIUSDT', 'UNIUSDT', 'SUSHIUSDT', 'SEIUSDT', 'APTUSDT', 'SIGNUSDT', 'TUTUSDT'}\n",
      "204\n"
     ]
    }
   ],
   "execution_count": 31
  },
  {
   "metadata": {
    "ExecuteTime": {
     "end_time": "2025-06-12T15:53:18.396958Z",
     "start_time": "2025-06-12T15:53:18.392381Z"
    }
   },
   "cell_type": "code",
   "source": [
    "if 'RESOLVUSDT' in interset:\n",
    "    print('y')\n",
    "else:\n",
    "    print('n')"
   ],
   "id": "d15fab8e284f19ed",
   "outputs": [
    {
     "name": "stdout",
     "output_type": "stream",
     "text": [
      "y\n"
     ]
    }
   ],
   "execution_count": 32
  },
  {
   "metadata": {
    "ExecuteTime": {
     "end_time": "2025-06-12T15:54:07.738243Z",
     "start_time": "2025-06-12T15:53:18.415975Z"
    }
   },
   "cell_type": "code",
   "source": [
    "from Workbench.config.ConnectionConstant import REDIS_HOST , REDIS_PORT, REDIS_DB , REDIS_PASSWORD\n",
    "from Workbench.transport.redis_client import RedisClient\n",
    "\n",
    "list_key = \"MktData:{0}:InstrumentList\"\n",
    "\n",
    "client = RedisClient(host=REDIS_HOST, port=REDIS_PORT, db=REDIS_DB,password=REDIS_PASSWORD)\n",
    "for code in htx_code:\n",
    "    client.client.lpush(list_key.format(\"HTX\"), code)\n",
    "\n",
    "for code in bn_code:\n",
    "    client.client.lpush(list_key.format(\"Binance\"), code)\n"
   ],
   "id": "6287123c62a2efce",
   "outputs": [],
   "execution_count": 33
  }
 ],
 "metadata": {
  "kernelspec": {
   "display_name": "Python 3",
   "language": "python",
   "name": "python3"
  },
  "language_info": {
   "codemirror_mode": {
    "name": "ipython",
    "version": 2
   },
   "file_extension": ".py",
   "mimetype": "text/x-python",
   "name": "python",
   "nbconvert_exporter": "python",
   "pygments_lexer": "ipython2",
   "version": "2.7.6"
  }
 },
 "nbformat": 4,
 "nbformat_minor": 5
}
