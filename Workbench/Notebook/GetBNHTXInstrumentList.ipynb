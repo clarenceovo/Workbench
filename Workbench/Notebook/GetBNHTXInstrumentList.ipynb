{
 "cells": [
  {
   "cell_type": "code",
   "id": "initial_id",
   "metadata": {
    "collapsed": true,
    "ExecuteTime": {
     "end_time": "2025-05-27T13:55:29.089409Z",
     "start_time": "2025-05-27T13:55:27.909193Z"
    }
   },
   "source": [
    "from Workbench.CryptoDataConnector.BinanceDataCollector import BinanceDataCollector\n",
    "from Workbench.CryptoDataConnector.HTXDataCollector import HTXDataCollector\n",
    "\n",
    "htx_instrument_list = HTXDataCollector().get_contract_details()\n",
    "binance_instrument_list = BinanceDataCollector().get_contract_details()\n",
    "\n",
    "htx_code = htx_instrument_list['contract_code']\n",
    "htx_code = [x.replace('-',\"\") for x in htx_code[htx_code.str.contains(\"USDT\")].values]\n",
    "binance_instrument_list.query(\"contractType == 'PERPETUAL'\")\n",
    "bn_code = binance_instrument_list['symbol'].values\n",
    "interset = set(htx_code).intersection(set(bn_code))\n",
    "print(interset)\n",
    "print(len(interset))"
   ],
   "outputs": [
    {
     "name": "stderr",
     "output_type": "stream",
     "text": [
      "/Users/clarenceho/Library/Python/3.9/lib/python/site-packages/urllib3/__init__.py:35: NotOpenSSLWarning: urllib3 v2 only supports OpenSSL 1.1.1+, currently the 'ssl' module is compiled with 'LibreSSL 2.8.3'. See: https://github.com/urllib3/urllib3/issues/3020\n",
      "  warnings.warn(\n"
     ]
    },
    {
     "name": "stdout",
     "output_type": "stream",
     "text": [
      "{'JSTUSDT', 'VIRTUALUSDT', 'BSVUSDT', 'ADAUSDT', 'ATOMUSDT', 'NEIROETHUSDT', 'HMSTRUSDT', 'KSMUSDT', 'MOVEUSDT', 'PENDLEUSDT', 'HYPERUSDT', 'INITUSDT', 'SHELLUSDT', 'IOUSDT', 'KOMAUSDT', 'NOTUSDT', 'ONDOUSDT', 'GRTUSDT', 'PARTIUSDT', 'COOKIEUSDT', 'MEMEUSDT', 'OMUSDT', 'MOODENGUSDT', 'CFXUSDT', 'BCHUSDT', 'AIXBTUSDT', 'SOLUSDT', 'MKRUSDT', 'ENSUSDT', 'CATIUSDT', 'AEVOUSDT', 'LTCUSDT', 'WCTUSDT', 'PYTHUSDT', 'HAEDALUSDT', 'BERAUSDT', 'AI16ZUSDT', 'TRBUSDT', 'KAVAUSDT', 'BNBUSDT', 'OBOLUSDT', 'LDOUSDT', 'CAKEUSDT', 'KASUSDT', 'ETHFIUSDT', 'WUSDT', 'HUMAUSDT', 'ARCUSDT', 'GALAUSDT', 'GOATUSDT', 'AAVEUSDT', 'PEOPLEUSDT', 'ENAUSDT', 'STRKUSDT', 'SUIUSDT', 'CYBERUSDT', 'FILUSDT', 'WLDUSDT', 'YGGUSDT', 'TRUMPUSDT', 'FARTCOINUSDT', 'TUTUSDT', 'TURBOUSDT', 'HBARUSDT', 'UXLINKUSDT', 'MAGICUSDT', 'BBUSDT', 'MASKUSDT', 'JASMYUSDT', 'ALCHUSDT', 'POLUSDT', 'TIAUSDT', 'FTTUSDT', 'VANAUSDT', 'YFIUSDT', 'REDUSDT', 'FORMUSDT', 'ALGOUSDT', 'ZEREBROUSDT', 'MEWUSDT', 'AXSUSDT', 'LAYERUSDT', 'SNXUSDT', 'MANAUSDT', 'LINKUSDT', 'DOGSUSDT', 'ACTUSDT', 'LPTUSDT', 'KERNELUSDT', 'DOGEUSDT', 'GUNUSDT', 'MUBARAKUSDT', 'ZROUSDT', 'TONUSDT', 'XRPUSDT', 'USTCUSDT', 'CHZUSDT', 'COMPUSDT', 'PROMPTUSDT', 'XMRUSDT', 'SOLVUSDT', 'JTOUSDT', 'BLURUSDT', 'STXUSDT', 'ZETAUSDT', 'MYROUSDT', 'JUPUSDT', 'NILUSDT', 'ICPUSDT', 'SYRUPUSDT', 'USUALUSDT', 'MELANIAUSDT', 'EIGENUSDT', 'SEIUSDT', 'SIGNUSDT', 'OPUSDT', 'ATHUSDT', 'ETCUSDT', 'BUSDT', 'PNUTUSDT', 'ARBUSDT', 'BMTUSDT', 'CKBUSDT', 'IPUSDT', 'MAVIAUSDT', 'AERGOUSDT', 'EPTUSDT', 'ETHUSDT', 'SOONUSDT', 'UNIUSDT', 'SONICUSDT', 'WAVESUSDT', 'BIGTIMEUSDT', 'SANDUSDT', 'SSVUSDT', 'TSTUSDT', 'INJUSDT', 'DEEPUSDT', 'PIXELUSDT', 'WIFUSDT', 'POPCATUSDT', 'STEEMUSDT', 'TNSRUSDT', 'SAGAUSDT', 'SUNUSDT', 'APEUSDT', 'GRASSUSDT', 'SXTUSDT', 'AVAXUSDT', 'VTHOUSDT', 'VOXELUSDT', 'NXPCUSDT', 'PENGUUSDT', 'PLUMEUSDT', 'SKYAIUSDT', 'VINEUSDT', 'AIUSDT', 'CRVUSDT', 'DOODUSDT', 'WOOUSDT', 'BABYUSDT', 'CHILLGUYUSDT', 'KAITOUSDT', 'TRXUSDT', 'SWARMSUSDT', 'ORDIUSDT', 'MEUSDT', 'BIOUSDT', 'STOUSDT', 'THETAUSDT', 'GMTUSDT', 'DYDXUSDT', '1INCHUSDT', 'TAOUSDT', 'NEARUSDT', 'ZKUSDT', 'SUSHIUSDT', 'SUSDT', 'VVVUSDT', 'IMXUSDT', 'MEMEFIUSDT', 'BOMEUSDT', 'BTCUSDT', 'DOTUSDT', 'JELLYJELLYUSDT', 'DEGENUSDT', 'XLMUSDT', 'PIPPINUSDT', 'APTUSDT', 'SLERFUSDT'}\n",
      "190\n"
     ]
    }
   ],
   "execution_count": 1
  },
  {
   "metadata": {
    "ExecuteTime": {
     "end_time": "2025-05-27T14:11:49.731685Z",
     "start_time": "2025-05-27T14:10:11.873376Z"
    }
   },
   "cell_type": "code",
   "source": [
    "from Workbench.config.ConnectionConstant import REDIS_HOST , REDIS_PORT, REDIS_DB\n",
    "from Workbench.transport.redis_client import RedisClient\n",
    "\n",
    "list_key = \"MktData:{0}:InstrumentList\"\n",
    "\n",
    "client = RedisClient(host=REDIS_HOST, port=REDIS_PORT, db=REDIS_DB,password=\"\")\n",
    "for code in htx_code:\n",
    "    client.client.lpush(list_key.format(\"HTX\"), code)\n",
    "\n",
    "for code in bn_code:\n",
    "    client.client.lpush(list_key.format(\"Binance\"), code)\n"
   ],
   "id": "6287123c62a2efce",
   "outputs": [],
   "execution_count": 3
  }
 ],
 "metadata": {
  "kernelspec": {
   "display_name": "Python 3",
   "language": "python",
   "name": "python3"
  },
  "language_info": {
   "codemirror_mode": {
    "name": "ipython",
    "version": 2
   },
   "file_extension": ".py",
   "mimetype": "text/x-python",
   "name": "python",
   "nbconvert_exporter": "python",
   "pygments_lexer": "ipython2",
   "version": "2.7.6"
  }
 },
 "nbformat": 4,
 "nbformat_minor": 5
}
